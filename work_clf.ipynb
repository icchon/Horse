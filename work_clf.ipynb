{
 "cells": [
  {
   "cell_type": "code",
   "execution_count": 1,
   "id": "6df3fb9f",
   "metadata": {},
   "outputs": [],
   "source": [
    "import numpy as np\n",
    "import pandas as pd\n",
    "import matplotlib.pyplot as plt\n",
    "import time\n",
    "from tqdm.notebook import tqdm\n",
    "from sklearn.linear_model import LinearRegression\n",
    "from sklearn.linear_model import LogisticRegression\n",
    "from sklearn.model_selection import train_test_split\n",
    "from sklearn.preprocessing import StandardScaler\n",
    "import lightgbm as lgb\n",
    "from lightgbm import LGBMClassifier\n",
    "from sklearn.metrics import accuracy_score\n",
    "from imblearn.under_sampling import RandomUnderSampler\n",
    "import requests\n",
    "from bs4 import BeautifulSoup\n",
    "from datetime import datetime, timedelta\n",
    "import re\n",
    "import preprocessing_mojule \n",
    "from sklearn.metrics import roc_auc_score\n",
    "from sklearn.metrics import f1_score\n",
    "from sklearn.model_selection import KFold\n",
    "from sklearn.metrics import accuracy_score\n",
    "import preprocessing_mojule as pm\n",
    "from urllib.request import urlopen\n",
    "import pickle\n",
    "import japanize_matplotlib "
   ]
  },
  {
   "cell_type": "code",
   "execution_count": 41,
   "id": "bcdf9d99",
   "metadata": {},
   "outputs": [],
   "source": [
    "url = \"https://db.netkeiba.com/race/\"\n",
    "\n",
    "def scraping_horse_ped(horse_id_dic, pre_horse_ped_dic={}):\n",
    "    horse_ped_dic = pre_horse_ped_dic.copy()\n",
    "    for horse_id, url in tqdm(horse_id_dic.items()):\n",
    "        try:\n",
    "            if horse_id in horse_ped_dic.keys():\n",
    "                continue\n",
    "            time.sleep(1)\n",
    "            res = requests.get(url)\n",
    "            res.encoding = \"EUC-JP\"\n",
    "            soup = BeautifulSoup(res.text, \"html.parser\")\n",
    "            li = soup.find(\"dd\", attrs={\"class\":\"DB_ProfHead_dd_01\"}).find_all(\"a\")\n",
    "            id_name_list = []\n",
    "            for i in li:\n",
    "                horse_name = i.get_text()\n",
    "                horse_parent_id = str(i).split(\"/\")[3]\n",
    "                id_name_list.append((horse_parent_id, horse_name))\n",
    "            dic = {}\n",
    "            dic[\"1_parent\"] = (id_name_list[0], id_name_list[3])\n",
    "            dic[\"2_parent\"] = (id_name_list[1], id_name_list[2], id_name_list[4], id_name_list[5])\n",
    "            horse_ped_dic[horse_id] = dic\n",
    "        except Exception as e:\n",
    "            print(e)\n",
    "            break\n",
    "    return horse_ped_dic   \n",
    "\n",
    "def scraping_results(race_url_dic , pre_race_results={}):\n",
    "    time.sleep(0.5)\n",
    "    race_results = pre_race_results.copy()\n",
    "    for race_id, race_url in tqdm(race_url_dic.items()):\n",
    "        #time.sleep(1)\n",
    "        if race_id in race_results.keys():\n",
    "            continue\n",
    "        \n",
    "        try:\n",
    "            df_tmp = pd.read_html(race_url)[0]\n",
    "            res = requests.get(race_url)\n",
    "            res.encoding = \"EUC-JP\"\n",
    "            soup = BeautifulSoup(res.text, \"html.parser\")\n",
    "            texts_horse = soup.find(\"table\", summary=\"レース結果\").find_all(\"a\", attrs={\"href\":re.compile(\"/horse\")})\n",
    "            texts_jockey = soup.find(\"table\", summary=\"レース結果\").find_all(\"a\", attrs={\"href\":re.compile(\"/jockey\")})\n",
    "            horse_ids = []\n",
    "            jockey_ids = []\n",
    "            for text in texts_horse:\n",
    "                horse_id = re.findall(\"\\d+\", text[\"href\"])[0]\n",
    "                horse_ids.append(horse_id)\n",
    "            for text in texts_jockey:\n",
    "                jockey_id = re.findall(\"\\d+\", text[\"href\"])[0]\n",
    "                jockey_ids.append(jockey_id) \n",
    "            df_tmp[\"horse_id\"] = horse_ids\n",
    "            df_tmp[\"jockey_id\"] = jockey_ids\n",
    "            race_results[race_id] = df_tmp\n",
    "        except UnicodeDecodeError:\n",
    "            continue\n",
    "        except IndexError:\n",
    "            continue\n",
    "        except:\n",
    "            print(race_url)\n",
    "            break \n",
    "    return race_results       \n",
    "\n",
    "def make_url():\n",
    "    url = \"https://db.netkeiba.com/race/\"\n",
    "    race_url_dic = {}\n",
    "    for place in range(1, 11):\n",
    "        for kai in range(1, 6):\n",
    "            for day in range(1, 13):\n",
    "                for race in range(1, 13):\n",
    "                    race_id = str(2023) + str(place).zfill(2) + str(kai).zfill(2) + str(day).zfill(2) + str(race).zfill(2)\n",
    "                    race_url_dic[race_id] = url + race_id\n",
    "    return race_url_dic            \n",
    "\n",
    "def dic_to_df(dic):\n",
    "    dic_tmp = dic.copy()\n",
    "    for key in dic_tmp:\n",
    "        dic_tmp[key].index = [key] * len(dic_tmp[key])\n",
    "    df = pd.concat([dic_tmp[key] for key in dic_tmp], sort=False)\n",
    "    return df\n",
    "\n",
    "def horse_pre_prizes_ave(x, gap=365):\n",
    "    horse_id = x[\"horse_id\"]\n",
    "    today = x[\"date\"]\n",
    "    first = True\n",
    "    try:\n",
    "        if horse_id not in dict_horse_history.keys():\n",
    "            return 0\n",
    "        df_horse = dict_horse_history[horse_id]\n",
    "        if isinstance(df_horse, pd.Series):\n",
    "            if today - df_horse[\"日付\"] > timedelta(gap) or today <= df_horse[\"日付\"]:\n",
    "                return 0\n",
    "            else:\n",
    "                average_prize = df_horse[\"賞金\"]\n",
    "        else:\n",
    "            df_horse_present = df_horse[today - df_horse[\"日付\"] <= timedelta(gap)]\n",
    "            df_horse_present = df_horse_present[today - df_horse_present[\"日付\"] > timedelta(0)]\n",
    "            df_horse_present_prize = df_horse_present[\"賞金\"]\n",
    "            average_prize = df_horse_present_prize.mean()\n",
    "        if np.isnan(average_prize):\n",
    "            return 0\n",
    "        else:\n",
    "            return average_prize\n",
    "    except KeyError:\n",
    "        if first:\n",
    "            first = False\n",
    "            print(f\"エラー race_id = {race_id}, horse_id = {horse_id}, today = {today}\")\n",
    "        return 0\n",
    "\n",
    "def horse_pre_prizes_sum(x, gap=365):\n",
    "    horse_id = x[\"horse_id\"]\n",
    "    today = x[\"date\"]\n",
    "    first = True\n",
    "    try:\n",
    "        if horse_id not in dict_horse_history.keys():\n",
    "            return 0\n",
    "        df_horse = dict_horse_history[horse_id]\n",
    "\n",
    "        if isinstance(df_horse, pd.Series):\n",
    "            if df_horse[\"日付\"] >= today or today - df_horse[\"日付\"] > timedelta(gap):\n",
    "                return 0\n",
    "            else:\n",
    "                average_prize = df_horse[\"賞金\"]\n",
    "        else:\n",
    "            df_horse_present = df_horse[today - df_horse[\"日付\"] <= timedelta(gap)]\n",
    "            df_horse_present = df_horse_present[today - df_horse_present[\"日付\"] > timedelta(0)]\n",
    "            df_horse_present_prize = df_horse_present[\"賞金\"]\n",
    "            average_prize = df_horse_present_prize.sum()\n",
    "\n",
    "        if np.isnan(average_prize):\n",
    "            return 0\n",
    "\n",
    "        else:\n",
    "            return average_prize\n",
    "    except KeyError:\n",
    "        if first:\n",
    "            first = False\n",
    "            print(f\"エラー race_id = {race_id}, horse_id = {horse_id}, today = {today}\")\n",
    "        return 0   \n",
    "\n",
    "\n",
    "def horse_pre_order_ave(x, gap=365):\n",
    "    def to_int(s):\n",
    "        try:\n",
    "            int(s)\n",
    "            return int(s)\n",
    "        except ValueError:\n",
    "            return substitute_num\n",
    "        \n",
    "    substitute_num = (sum([i+1 for i in range(16)])/16 + sum([i+1 for i in range(9)])/9) / 2\n",
    "    horse_id = x[\"horse_id\"]\n",
    "    today = x[\"date\"]\n",
    "    first = True\n",
    "    try:\n",
    "        if horse_id not in dict_horse_history.keys():\n",
    "            return substitute_num\n",
    "        df_horse = dict_horse_history[horse_id]\n",
    "\n",
    "        if isinstance(df_horse, pd.Series):\n",
    "            if df_horse[\"日付\"] >= today or today - df_horse[\"日付\"] > timedelta(gap):\n",
    "                return substitute_num\n",
    "            else:\n",
    "                average_order = to_int(df_horse[\"着順\"])\n",
    "                \n",
    "        else:\n",
    "            df_horse_present = df_horse[today - df_horse[\"日付\"] <= timedelta(gap)]\n",
    "            df_horse_present = df_horse_present[today - df_horse_present[\"日付\"] > timedelta(0)]\n",
    "            df_horse_present_order = df_horse_present[\"着順\"]\n",
    "            #df_horse_heads = df_horse_present[\"頭数\"]\n",
    "            df_horse_present_order = df_horse_present_order.map(lambda x:to_int(x))\n",
    "            #df_horse_heads = df_horse_heads.map(lambda x:to_int(x))\n",
    "            #df_horse_present_order = df_horse_present_order[df_horse_heads > 0]\n",
    "            #df_horse_heads = df_horse_heads[df_horse_heads > 0]\n",
    "            #average_order = df_horse_present_order / df_horse_heads\n",
    "            average_order = df_horse_present_order.mean()\n",
    "            \n",
    "\n",
    "        if np.isnan(average_order):\n",
    "            return substitute_num\n",
    "\n",
    "        else:\n",
    "            return average_order\n",
    "    except KeyError:\n",
    "        if first:\n",
    "            first = False\n",
    "            print(f\"エラー race_id = {race_id}, horse_id = {horse_id}, today = {today}\")\n",
    "        return substitute_num\n",
    "    \n",
    "\n",
    "class Results:\n",
    "    def __init__(self, pre_df):\n",
    "        self.pre_df = pre_df\n",
    "        self.before_scale = None\n",
    "        self.post_df = self.preprocessing(self.pre_df)\n",
    "        \n",
    "    \n",
    "    def preprocessing(self, pre_df):\n",
    "        results = pre_df.copy()\n",
    "        results = results[~(results[\"着順\"].astype(str).str.contains(\"\\D\"))]\n",
    "        results[\"着順\"] = results[\"着順\"].astype(int)\n",
    "        results[\"性齢\"] = results[\"性齢\"].astype(str)\n",
    "        results[\"性\"] = results[\"性齢\"].map(lambda x:x[0])\n",
    "        results[\"年齢\"] = results[\"性齢\"].map(lambda x:x[1:])\n",
    "        results[\"体重\"] = results[\"馬体重\"].map(lambda x:x[:3])\n",
    "        results[\"増減\"] = results[\"馬体重\"].str.split(\"(\").map(lambda x:int(x[-1][:-1]))\n",
    "        results[\"人気\"] = results[\"人気\"].astype(int)\n",
    "        results[\"年齢\"] = results[\"年齢\"].astype(int)\n",
    "        results[\"体重\"] = results[\"体重\"].astype(float)\n",
    "        results[\"単勝\"] = results[\"単勝\"].astype(float)\n",
    "        results = pd.concat([results, pd.get_dummies(results[\"性\"])], axis=1)\n",
    "        results[\"勝率*騎乗回数\"] = results[\"勝率\"] * results[\"騎乗回数\"]\n",
    "        results[\"連対率*騎乗回数\"] = results[\"連対率\"] * results[\"騎乗回数\"]\n",
    "        results[\"複勝率*騎乗回数\"] = results[\"複勝率\"] * results[\"騎乗回数\"]\n",
    "        \n",
    "        \n",
    "        results[\"増減/体重\"] = results[\"増減\"] / results[\"体重\"]  \n",
    "        results[\"斤量/体重\"] = results[\"斤量\"] / results[\"体重\"]\n",
    "        \n",
    "        features_addinfo = [\n",
    "            '着順', '枠番', '馬番', '馬名', '性齢', '斤量', '騎手', 'タイム', '着差', '単勝', '人気',\n",
    "       '馬体重', '調教師', 'horse_id', 'jockey_id', 'length', 'race_type', 'weather',\n",
    "       'condition', 'date', '騎乗回数', '勝率', '連対率', '複勝率', '賞金_ave', '賞金_sum',\n",
    "       '順番_ave', '賞金_ave_2', '賞金_sum_2', '順番_ave_2', '賞金_ave_4', '賞金_sum_4',\n",
    "       '順番_ave_4', '順番_ave_distorted', '順番_ave_2_distorted',\n",
    "       '順番_ave_4_distorted', '芝', 'ダ', '障', '短距離', 'マイル距離', '芝_ave_order',\n",
    "       'ダ_ave_order', '短距離_ave_order', 'マイル距離_ave_order', '芝得意', '短距離得意',\n",
    "       '中距離_ave_order', '長距離_ave_order', 'マイル距離得意', '中距離得意', '長距離得意',\n",
    "       'length_match', 'race_type_match'\n",
    "        ]\n",
    "        \n",
    "        drop_features = [\n",
    "            \"枠番\", \"馬名\", \"性齢\", \"騎手\", \"タイム\", \"着差\", \"人気\", \"馬体重\", \"調教師\", \"horse_id\",\n",
    "            \"jockey_id\", \"length\", \"race_type\", \"weather\", \"condition\", \"date\", \"性\",\n",
    "            '芝', 'ダ', '障', '短距離', 'マイル距離', '芝_ave_order',\n",
    "            'ダ_ave_order', '短距離_ave_order', 'マイル距離_ave_order', '芝得意', '短距離得意',\n",
    "            '中距離_ave_order', '長距離_ave_order', 'マイル距離得意', '中距離得意', '長距離得意',\n",
    "        ]\n",
    "        results = results.drop(drop_features, axis=1)\n",
    "        results = results.astype(float)\n",
    "        results[\"着順\"] = results[\"着順\"].astype(int)\n",
    "        self.before_scale = results\n",
    "        \n",
    "        keep_features = ['着順', 'セ', '牝', '牡', \"馬番\", \"length_match\", \"race_type_match\"]\n",
    "        scaler = pm.CustomSTDScaler(keep_features)\n",
    "        results = scaler.fit_transform(results)\n",
    "    \n",
    "        return results\n",
    " \n",
    "\n",
    "def scraping_infos(race_url_dic , pre_race_infos={}):\n",
    "    time.sleep(1)\n",
    "    race_infos = pre_race_infos.copy()\n",
    "    for race_id, race_url in tqdm(race_url_dic.items()):\n",
    "        if race_id in race_infos.keys():\n",
    "            continue\n",
    "        try:\n",
    "            res = requests.get(race_url)\n",
    "            res.encoding = \"EUC-JP\"\n",
    "            soup = BeautifulSoup(res.text, \"html.parser\")\n",
    "            texts = soup.find(\"div\", attrs={\"class\":\"data_intro\"}).find_all(\"p\")[0].get_text() + soup.find(\"div\", attrs={\"class\":\"data_intro\"}).find_all(\"p\")[1].get_text()\n",
    "            texts = re.findall(r\"\\w+\", texts)\n",
    "            race_infos[race_id] = {}\n",
    "            for idx, text in enumerate(texts):\n",
    "                if text in [\"芝\" , \"ダート\"]:\n",
    "                    race_infos[race_id][\"condition\"] = texts[idx + 1]\n",
    "                if text in [\"天候\"]:\n",
    "                    race_infos[race_id][\"weather\"] = texts[idx + 1]\n",
    "                for date in [str(i) for i in range(2000, 2025)]:\n",
    "                    if date in text:\n",
    "                        race_infos[race_id][\"date\"] = text\n",
    "                if \"m\" in text:\n",
    "                    race_infos[race_id][\"length\"] = text[-5:-1]\n",
    "                if \"race_type\" in race_infos[race_id].keys() and race_infos[race_id][\"race_type\"] == \"障\":\n",
    "                    continue\n",
    "                for race_type in [\"障\", \"芝\", \"ダート\"]:\n",
    "                    if race_type in text:\n",
    "                        race_infos[race_id][\"race_type\"] = race_type\n",
    "\n",
    "        except UnicodeDecodeError:\n",
    "            continue\n",
    "        except AttributeError:\n",
    "            continue\n",
    "        except:\n",
    "            print(race_url)\n",
    "            break \n",
    "    return race_infos \n",
    "\n",
    "def scraping_horse(horse_id_dic, pre_horse_history={}):\n",
    "    horse_history = pre_horse_history.copy()\n",
    "    time.sleep(1)\n",
    "    for horse_id, horse_url in tqdm(horse_id_dic.items()):\n",
    "        tmp_df = pd.read_html(horse_url)[3]\n",
    "        horse_history[horse_id] = tmp_df\n",
    "    return horse_history    \n",
    "\n",
    "def make_horse_url(horse_id_list):\n",
    "    horse_id_dic = {}\n",
    "    for horse_id in horse_id_list:\n",
    "        horse_url = \"https://db.netkeiba.com/\" + \"horse/\" + str(horse_id)\n",
    "        horse_id_dic[horse_id] = horse_url\n",
    "        \n",
    "    return horse_id_dic\n",
    "\n",
    "def scraping_jockey(jockey_id_dic, pre_jockey_history):\n",
    "    jockey_history = pre_jockey_history.copy()\n",
    "    for jockey_id, jockey_url in tqdm(jockey_id_dic.items()):\n",
    "        time.sleep(1)\n",
    "        tmp_df = pd.read_html(jockey_url)[2]\n",
    "        jockey_history[jockey_id] = tmp_df\n",
    "        \n",
    "    return jockey_history    \n",
    "\n",
    "def make_jockey_url(jockey_id_list):\n",
    "    jockey_id_dic = {}\n",
    "    for jockey_id in jockey_id_list:\n",
    "        jockey_url = \"https://db.netkeiba.com/\" + \"jockey/\" + str(jockey_id)\n",
    "        jockey_id_dic[jockey_id] = jockey_url\n",
    "        \n",
    "    return jockey_id_dic   \n",
    "\n",
    "def scraping_pay(race_url_dic, pre_pay={}):\n",
    "    pay = pre_pay.copy()\n",
    "    for race_id, url in tqdm(race_url_dic.items()):\n",
    "        if race_id in pay.keys():\n",
    "            continue\n",
    "        \n",
    "        try:\n",
    "            time.sleep(0.1)\n",
    "            f = urlopen(url)\n",
    "            html = f.read()\n",
    "            html = html.replace(b\"<br />\", b\"br\")\n",
    "            df = pd.concat([pd.read_html(html)[1], pd.read_html(html)[2]], axis=0)\n",
    "            df.columns = [\"種類\", \"該当馬\", \"金\", \"人気\"]\n",
    "            df.set_index(\"種類\", inplace=True)\n",
    "            df[\"人気\"] = df[\"人気\"].map(lambda x:re.split(\"br|-|→\", x))\n",
    "            df[\"該当馬\"] = df[\"該当馬\"].map(lambda x:re.split(\"br|-|→\", x))\n",
    "            df[\"金\"] = df[\"金\"].map(lambda x:re.split(\"br|-|→\", x))\n",
    "            pay[race_id] = df\n",
    "        except UnicodeDecodeError:\n",
    "            print((race_id, url))\n",
    "            continue\n",
    "        except IndexError:\n",
    "            print((race_id, url))\n",
    "            continue\n",
    "        except:\n",
    "            print((race_id, url))\n",
    "            break\n",
    "    return pay\n",
    "\n",
    "class Evaluater():\n",
    "    def __init__(self, X, y):\n",
    "        train_x, self.__X_test, train_y, self.__y_test = train_test_split(X, y, test_size=0.3, shuffle=False)\n",
    "        self.__X_train, self.__X_val, self.__y_train, self.__y_val = train_test_split(train_x, train_y, test_size=0.3, shuffle=False)\n",
    "        self.__params = None\n",
    "        self.__params = self.params\n",
    "        self.__model = self.model\n",
    "        return \n",
    "    @property\n",
    "    def params(self):\n",
    "        if self.__params == None:\n",
    "            param = {\n",
    "                'objective': 'binary',\n",
    "                 'random_state': 57,\n",
    "                 'metric': 'auc',\n",
    "                 'feature_pre_filter': False,\n",
    "                 'lambda_l1': 9.926347819260023,\n",
    "                 'lambda_l2': 0.2635745692891133,\n",
    "                 'num_leaves': 2,\n",
    "                 'feature_fraction': 0.48000000000000004,\n",
    "                 'bagging_fraction': 1.0,\n",
    "                 'bagging_freq': 0,\n",
    "                 'min_child_samples': 20,\n",
    "                 'num_iterations': 1000\n",
    "            }\n",
    "         \n",
    "        self.__params = param\n",
    "        return self.__params\n",
    "    @params.setter\n",
    "    def params(self, params):\n",
    "        self.__params = params\n",
    "        self.__model = lgb.LGBMClassifier(**self.__params, verbose=-1)\n",
    "    @property\n",
    "    def model(self):\n",
    "        self.__model = lgb.LGBMClassifier(**self.__params, verbose=-1)\n",
    "        return self.__model\n",
    "    @property\n",
    "    def X_test(self):\n",
    "        return self.__X_test\n",
    "    def predict(self,X_test, threshold=0.5):\n",
    "        self.fit()\n",
    "        pred = self.predict_proba(X_test, threshold)\n",
    "        pred = np.array([1 if p >= threshold else 0 for p in pred])\n",
    "        return pred\n",
    "    def predict_proba(self, X_test, threshold=0.5):\n",
    "        self.fit()\n",
    "        pred = self.__model.predict_proba(X_test.drop([\"馬番\", \"単勝\"], axis=1, inplace=False)).T[1]\n",
    "        df = X_test.copy()\n",
    "        df[\"proba\"] = pred\n",
    "        df[\"mean\"] = df.groupby(df.index)[\"proba\"].transform(\"mean\")\n",
    "        df[\"std\"] = df.groupby(df.index)[\"proba\"].transform(\"std\")\n",
    "        df[\"min\"] = df.groupby(df.index)[\"proba\"].transform(\"min\")\n",
    "        df[\"max\"] = df.groupby(df.index)[\"proba\"].transform(\"max\")\n",
    "        df[\"scale_standard\"] = (df[\"proba\"] - df[\"mean\"]) / df[\"std\"]\n",
    "        df[\"scale_minmax\"] = (df[\"proba\"] - df[\"min\"]) / (df[\"max\"] - df[\"min\"])\n",
    "        return df[\"scale_standard\"]\n",
    "    def fit(self):\n",
    "        verbose_eval = -1\n",
    "        self.__model = self.__model.fit(self.__X_train.drop([\"馬番\", \"単勝\"], axis=1, inplace=False), self.__y_train,\n",
    "                 eval_set=[(self.__X_val.drop([\"馬番\", \"単勝\"], axis=1, inplace=False), self.__y_val)],\n",
    "                 callbacks=[lgb.early_stopping(stopping_rounds=10, verbose=False), \n",
    "                            lgb.log_evaluation(verbose_eval),\n",
    "                          ] \n",
    "                 )\n",
    "        return self.__model\n",
    "    def f1_score_cal(self,threshold=0.5):\n",
    "        pred = self.predict(self.__X_test, threshold)\n",
    "        return f1_score(self.__y_test, pred)\n",
    "    def acc_cal(self, threshold=0.5):\n",
    "        pred = self.predict(self.__X_test, threshold)\n",
    "        return accuracy_score(self.__y_test, pred)\n",
    "    def importance(self):\n",
    "        self.fit()\n",
    "        importances = pd.DataFrame(\n",
    "            {\n",
    "                \"features\":self.__X_train.drop([\"馬番\", \"単勝\"], axis=1, inplace=False).columns, \"importance\":self.__model.feature_importances_\n",
    "            })\n",
    "            \n",
    "        importances =  importances.sort_values(\"importance\", ascending=False)\n",
    "        return importances\n",
    "    def cal(self, X_test, pay_dict, threshold=0.5, fukusho=False, balanced=True):\n",
    "        def cal_payment(x):\n",
    "            race_id = x.name\n",
    "            horse_number = str(int(x[0]))\n",
    "            odds = x[1]\n",
    "            df = pay_dict[race_id]\n",
    "            df_fukusho = df.loc[\"複勝\"]\n",
    "            df_tansho = df.loc[\"単勝\"]\n",
    "            money = 0\n",
    "            if balanced == False:\n",
    "                if horse_number in df_fukusho[\"該当馬\"] and fukusho:\n",
    "                    idx = df_fukusho[\"該当馬\"].index(horse_number)\n",
    "                    tmp = df_fukusho[\"金\"][idx]\n",
    "                    tmp = tmp.split(\",\")\n",
    "                    money = int(\"\".join(tmp))\n",
    "                if horse_number in df_tansho[\"該当馬\"] and fukusho == False:\n",
    "                    tmp = df_tansho[\"金\"][0]\n",
    "                    tmp = tmp.split(\",\")\n",
    "                    money = int(\"\".join(tmp))\n",
    "            else:\n",
    "                if horse_number in df_fukusho[\"該当馬\"] and fukusho:\n",
    "                    idx = df_fukusho[\"該当馬\"].index(horse_number)\n",
    "                    tmp = df_fukusho[\"金\"][idx]\n",
    "                    tmp = tmp.split(\",\")\n",
    "                    odds_post = int(\"\".join(tmp))\n",
    "                    n_parchased = 10000 // (odds*0.5*100)\n",
    "                    money = n_parchased * odds_post \n",
    "                if horse_number in df_tansho[\"該当馬\"] and fukusho == False:\n",
    "                    tmp = df_tansho[\"金\"][0]\n",
    "                    tmp = tmp.split(\",\")\n",
    "                    odds_post = int(\"\".join(tmp))\n",
    "                    n_parchased = 10000 // (odds*100)\n",
    "                    money = n_parchased * odds_post \n",
    "                    \n",
    "            return money\n",
    "        def cal_invested(x):\n",
    "            race_id = x.name\n",
    "            horse_number = str(int(x[0]))\n",
    "            odds = x[1]\n",
    "            if fukusho == False:\n",
    "                n_parchased = 10000 // (odds*100)\n",
    "            else:\n",
    "                n_parchased = 10000 // (odds*0.5*100)\n",
    "            invested = n_parchased * 100    \n",
    "            return invested\n",
    "            \n",
    "        pred = self.predict(X_test, threshold)\n",
    "        parchaced = X_test[pred==1][[\"馬番\", \"単勝\"]]\n",
    "        payback = parchaced.apply(lambda x:cal_payment(x), axis=1)\n",
    "        payback_sum = np.sum(payback.values, axis=0)\n",
    "        if balanced == False:\n",
    "            invested = 100 * parchaced.shape[0]\n",
    "        else:\n",
    "            tmp = parchaced.apply(lambda x:cal_invested(x), axis=1)\n",
    "            invested = np.sum(tmp.values, axis=0)\n",
    "        div = payback_sum - invested\n",
    "        if isinstance(invested, (int, float)):\n",
    "            if invested == 0:\n",
    "                div = 0\n",
    "                payback_sum = 0\n",
    "        else:\n",
    "            invested = 0\n",
    "            div = 0\n",
    "            payback_sum = 0\n",
    "            \n",
    "        return invested, payback_sum, payback\n",
    "    def visualize(self, X_test, bins=100, fukusho=False, balanced=True):\n",
    "        thresholds = []\n",
    "        kaishuuritu = []\n",
    "        div = []\n",
    "        investeds = []\n",
    "        stds = []\n",
    "        res = {}\n",
    "        for i in tqdm(range(bins+2)):\n",
    "            threshold = -1 + (i/bins)*3\n",
    "            thresholds.append(threshold)\n",
    "            invested, payback_sum, payback = self.cal(X_test, pay_dict, threshold, fukusho, balanced)\n",
    "            std = payback.std() / np.sqrt(payback.shape[0])\n",
    "            div.append(payback_sum - invested)\n",
    "            investeds.append(invested/100)\n",
    "            if invested == 0:\n",
    "                if payback_sum == 0:\n",
    "                    kaishuuritu.append(1*100)    \n",
    "                stds.append(stds[-1])\n",
    "                continue\n",
    "            stds.append(std)    \n",
    "            kaishuuritu.append((payback_sum / invested)*100)\n",
    "        res[\"invested\"] = np.array(investeds)\n",
    "        res[\"kaishuuritu\"] = np.array(kaishuuritu)\n",
    "        res[\"div\"] = np.array(div)\n",
    "        res[\"threshold\"] = np.array(thresholds)\n",
    "        res[\"std\"] = np.array(stds)\n",
    "        self.__d = res[\"invested\"]\n",
    "        self.__h = res[\"kaishuuritu\"]\n",
    "        return res   \n",
    "    def integral(self, d=None, h=None, bins=100, fukusho=True):\n",
    "        def private_integral(x, y):\n",
    "            z = [(d, h) for d, h in zip(x, y)]\n",
    "            z.sort()\n",
    "            x = np.array([i[0] for i in z])\n",
    "            x = x/max(x)\n",
    "            y = np.array([i[1] for i in z])\n",
    "            y = y - 100\n",
    "\n",
    "            length = x.shape[0]\n",
    "            S = 0\n",
    "            for i in range(length - 1):\n",
    "                d = x[i + 1] - x[i]\n",
    "                a = y[i]\n",
    "                b = y[i + 1]\n",
    "                s = (y[i] + y[i + 1]) * d / 2\n",
    "                S += s\n",
    "            return S   \n",
    "        if d is None is h == None:\n",
    "            res = self.visualize(self.X_test, bins=bins, fukusho=fukusho)\n",
    "            d, h = res[\"invested\"], res[\"kaishuuritu\"]\n",
    "        return private_integral(d, h)"
   ]
  },
  {
   "cell_type": "code",
   "execution_count": 3,
   "id": "7e557128",
   "metadata": {},
   "outputs": [],
   "source": [
    "results_addinfo = pd.read_pickle(\"result_addinfo.pickle\")\n",
    "horse_history = pd.read_pickle(\"horse_history.pickle\")\n",
    "jockey_history = pd.read_pickle(\"jockey_history.pickle\")\n",
    "dict_horse_history = {idx: horse_history.loc[idx] for idx in horse_history.index.unique()}\n",
    "\n",
    "with open(\"pay_dict.pickle\", \"rb\") as f:\n",
    "    pay_dict = pickle.load(f)\n",
    "with open(\"dict_horse_ped.pickle\", \"rb\") as f:\n",
    "    horse_ped_dict = pickle.load(f)"
   ]
  },
  {
   "cell_type": "code",
   "execution_count": 42,
   "id": "340729b4",
   "metadata": {
    "scrolled": false
   },
   "outputs": [],
   "source": [
    "instance = Results(results_addinfo)\n",
    "data = instance.post_df\n",
    "th = 3\n",
    "X, y = data.drop([\"着順\"], axis=1), data[\"着順\"].map(lambda x:1 if -(x-th) >= 0 else 0)\n",
    "\n",
    "drop_features = [\n",
    "       '連対率', \n",
    "        '賞金_ave_2', '賞金_sum_2',  '賞金_ave_4', '賞金_sum_4',\n",
    "        '順番_ave_4', '順番_ave_distorted', '順番_ave_2_distorted',\n",
    "        '順番_ave_4_distorted',\n",
    "        '増減',  '勝率*騎乗回数',\n",
    "        '連対率*騎乗回数', '複勝率*騎乗回数',\n",
    "]\n",
    "X.drop(drop_features, axis=1, inplace=True)"
   ]
  },
  {
   "cell_type": "code",
   "execution_count": 43,
   "id": "781cdcd2",
   "metadata": {},
   "outputs": [],
   "source": [
    "ev = Evaluater(X, y)"
   ]
  },
  {
   "cell_type": "code",
   "execution_count": 44,
   "id": "d5d85451",
   "metadata": {
    "scrolled": true
   },
   "outputs": [
    {
     "name": "stderr",
     "output_type": "stream",
     "text": [
      "C:\\Users\\kanat\\anaconda3\\lib\\site-packages\\lightgbm\\engine.py:172: UserWarning: Found `num_iterations` in params. Will use it instead of argument\n",
      "  _log_warning(f\"Found `{alias}` in params. Will use it instead of argument\")\n"
     ]
    },
    {
     "data": {
      "text/html": [
       "<div>\n",
       "<style scoped>\n",
       "    .dataframe tbody tr th:only-of-type {\n",
       "        vertical-align: middle;\n",
       "    }\n",
       "\n",
       "    .dataframe tbody tr th {\n",
       "        vertical-align: top;\n",
       "    }\n",
       "\n",
       "    .dataframe thead th {\n",
       "        text-align: right;\n",
       "    }\n",
       "</style>\n",
       "<table border=\"1\" class=\"dataframe\">\n",
       "  <thead>\n",
       "    <tr style=\"text-align: right;\">\n",
       "      <th></th>\n",
       "      <th>features</th>\n",
       "      <th>importance</th>\n",
       "    </tr>\n",
       "  </thead>\n",
       "  <tbody>\n",
       "    <tr>\n",
       "      <th>4</th>\n",
       "      <td>賞金_ave</td>\n",
       "      <td>57</td>\n",
       "    </tr>\n",
       "    <tr>\n",
       "      <th>6</th>\n",
       "      <td>順番_ave</td>\n",
       "      <td>51</td>\n",
       "    </tr>\n",
       "    <tr>\n",
       "      <th>3</th>\n",
       "      <td>複勝率</td>\n",
       "      <td>42</td>\n",
       "    </tr>\n",
       "    <tr>\n",
       "      <th>11</th>\n",
       "      <td>年齢</td>\n",
       "      <td>34</td>\n",
       "    </tr>\n",
       "    <tr>\n",
       "      <th>7</th>\n",
       "      <td>順番_ave_2</td>\n",
       "      <td>25</td>\n",
       "    </tr>\n",
       "    <tr>\n",
       "      <th>0</th>\n",
       "      <td>斤量</td>\n",
       "      <td>22</td>\n",
       "    </tr>\n",
       "    <tr>\n",
       "      <th>8</th>\n",
       "      <td>length_match</td>\n",
       "      <td>17</td>\n",
       "    </tr>\n",
       "    <tr>\n",
       "      <th>17</th>\n",
       "      <td>斤量/体重</td>\n",
       "      <td>17</td>\n",
       "    </tr>\n",
       "    <tr>\n",
       "      <th>5</th>\n",
       "      <td>賞金_sum</td>\n",
       "      <td>11</td>\n",
       "    </tr>\n",
       "    <tr>\n",
       "      <th>16</th>\n",
       "      <td>増減/体重</td>\n",
       "      <td>11</td>\n",
       "    </tr>\n",
       "    <tr>\n",
       "      <th>2</th>\n",
       "      <td>勝率</td>\n",
       "      <td>9</td>\n",
       "    </tr>\n",
       "    <tr>\n",
       "      <th>10</th>\n",
       "      <td>horse_ped_score</td>\n",
       "      <td>6</td>\n",
       "    </tr>\n",
       "    <tr>\n",
       "      <th>12</th>\n",
       "      <td>体重</td>\n",
       "      <td>3</td>\n",
       "    </tr>\n",
       "    <tr>\n",
       "      <th>1</th>\n",
       "      <td>騎乗回数</td>\n",
       "      <td>0</td>\n",
       "    </tr>\n",
       "    <tr>\n",
       "      <th>13</th>\n",
       "      <td>セ</td>\n",
       "      <td>0</td>\n",
       "    </tr>\n",
       "    <tr>\n",
       "      <th>14</th>\n",
       "      <td>牝</td>\n",
       "      <td>0</td>\n",
       "    </tr>\n",
       "    <tr>\n",
       "      <th>15</th>\n",
       "      <td>牡</td>\n",
       "      <td>0</td>\n",
       "    </tr>\n",
       "    <tr>\n",
       "      <th>9</th>\n",
       "      <td>race_type_match</td>\n",
       "      <td>0</td>\n",
       "    </tr>\n",
       "  </tbody>\n",
       "</table>\n",
       "</div>"
      ],
      "text/plain": [
       "           features  importance\n",
       "4            賞金_ave          57\n",
       "6            順番_ave          51\n",
       "3               複勝率          42\n",
       "11               年齢          34\n",
       "7          順番_ave_2          25\n",
       "0                斤量          22\n",
       "8      length_match          17\n",
       "17            斤量/体重          17\n",
       "5            賞金_sum          11\n",
       "16            増減/体重          11\n",
       "2                勝率           9\n",
       "10  horse_ped_score           6\n",
       "12               体重           3\n",
       "1              騎乗回数           0\n",
       "13                セ           0\n",
       "14                牝           0\n",
       "15                牡           0\n",
       "9   race_type_match           0"
      ]
     },
     "execution_count": 44,
     "metadata": {},
     "output_type": "execute_result"
    }
   ],
   "source": [
    "ev.importance()"
   ]
  },
  {
   "cell_type": "code",
   "execution_count": 45,
   "id": "5add48b5",
   "metadata": {
    "scrolled": true
   },
   "outputs": [
    {
     "data": {
      "application/vnd.jupyter.widget-view+json": {
       "model_id": "1ef5bd05b77342e284cf22eaac497afa",
       "version_major": 2,
       "version_minor": 0
      },
      "text/plain": [
       "  0%|          | 0/32 [00:00<?, ?it/s]"
      ]
     },
     "metadata": {},
     "output_type": "display_data"
    },
    {
     "name": "stderr",
     "output_type": "stream",
     "text": [
      "C:\\Users\\kanat\\anaconda3\\lib\\site-packages\\lightgbm\\engine.py:172: UserWarning: Found `num_iterations` in params. Will use it instead of argument\n",
      "  _log_warning(f\"Found `{alias}` in params. Will use it instead of argument\")\n",
      "C:\\Users\\kanat\\anaconda3\\lib\\site-packages\\lightgbm\\engine.py:172: UserWarning: Found `num_iterations` in params. Will use it instead of argument\n",
      "  _log_warning(f\"Found `{alias}` in params. Will use it instead of argument\")\n",
      "C:\\Users\\kanat\\anaconda3\\lib\\site-packages\\lightgbm\\engine.py:172: UserWarning: Found `num_iterations` in params. Will use it instead of argument\n",
      "  _log_warning(f\"Found `{alias}` in params. Will use it instead of argument\")\n",
      "C:\\Users\\kanat\\anaconda3\\lib\\site-packages\\lightgbm\\engine.py:172: UserWarning: Found `num_iterations` in params. Will use it instead of argument\n",
      "  _log_warning(f\"Found `{alias}` in params. Will use it instead of argument\")\n",
      "C:\\Users\\kanat\\anaconda3\\lib\\site-packages\\lightgbm\\engine.py:172: UserWarning: Found `num_iterations` in params. Will use it instead of argument\n",
      "  _log_warning(f\"Found `{alias}` in params. Will use it instead of argument\")\n",
      "C:\\Users\\kanat\\anaconda3\\lib\\site-packages\\lightgbm\\engine.py:172: UserWarning: Found `num_iterations` in params. Will use it instead of argument\n",
      "  _log_warning(f\"Found `{alias}` in params. Will use it instead of argument\")\n",
      "C:\\Users\\kanat\\anaconda3\\lib\\site-packages\\lightgbm\\engine.py:172: UserWarning: Found `num_iterations` in params. Will use it instead of argument\n",
      "  _log_warning(f\"Found `{alias}` in params. Will use it instead of argument\")\n",
      "C:\\Users\\kanat\\anaconda3\\lib\\site-packages\\lightgbm\\engine.py:172: UserWarning: Found `num_iterations` in params. Will use it instead of argument\n",
      "  _log_warning(f\"Found `{alias}` in params. Will use it instead of argument\")\n",
      "C:\\Users\\kanat\\anaconda3\\lib\\site-packages\\lightgbm\\engine.py:172: UserWarning: Found `num_iterations` in params. Will use it instead of argument\n",
      "  _log_warning(f\"Found `{alias}` in params. Will use it instead of argument\")\n",
      "C:\\Users\\kanat\\anaconda3\\lib\\site-packages\\lightgbm\\engine.py:172: UserWarning: Found `num_iterations` in params. Will use it instead of argument\n",
      "  _log_warning(f\"Found `{alias}` in params. Will use it instead of argument\")\n",
      "C:\\Users\\kanat\\anaconda3\\lib\\site-packages\\lightgbm\\engine.py:172: UserWarning: Found `num_iterations` in params. Will use it instead of argument\n",
      "  _log_warning(f\"Found `{alias}` in params. Will use it instead of argument\")\n",
      "C:\\Users\\kanat\\anaconda3\\lib\\site-packages\\lightgbm\\engine.py:172: UserWarning: Found `num_iterations` in params. Will use it instead of argument\n",
      "  _log_warning(f\"Found `{alias}` in params. Will use it instead of argument\")\n",
      "C:\\Users\\kanat\\anaconda3\\lib\\site-packages\\lightgbm\\engine.py:172: UserWarning: Found `num_iterations` in params. Will use it instead of argument\n",
      "  _log_warning(f\"Found `{alias}` in params. Will use it instead of argument\")\n",
      "C:\\Users\\kanat\\anaconda3\\lib\\site-packages\\lightgbm\\engine.py:172: UserWarning: Found `num_iterations` in params. Will use it instead of argument\n",
      "  _log_warning(f\"Found `{alias}` in params. Will use it instead of argument\")\n",
      "C:\\Users\\kanat\\anaconda3\\lib\\site-packages\\lightgbm\\engine.py:172: UserWarning: Found `num_iterations` in params. Will use it instead of argument\n",
      "  _log_warning(f\"Found `{alias}` in params. Will use it instead of argument\")\n",
      "C:\\Users\\kanat\\anaconda3\\lib\\site-packages\\lightgbm\\engine.py:172: UserWarning: Found `num_iterations` in params. Will use it instead of argument\n",
      "  _log_warning(f\"Found `{alias}` in params. Will use it instead of argument\")\n",
      "C:\\Users\\kanat\\anaconda3\\lib\\site-packages\\lightgbm\\engine.py:172: UserWarning: Found `num_iterations` in params. Will use it instead of argument\n",
      "  _log_warning(f\"Found `{alias}` in params. Will use it instead of argument\")\n",
      "C:\\Users\\kanat\\anaconda3\\lib\\site-packages\\lightgbm\\engine.py:172: UserWarning: Found `num_iterations` in params. Will use it instead of argument\n",
      "  _log_warning(f\"Found `{alias}` in params. Will use it instead of argument\")\n",
      "C:\\Users\\kanat\\anaconda3\\lib\\site-packages\\lightgbm\\engine.py:172: UserWarning: Found `num_iterations` in params. Will use it instead of argument\n",
      "  _log_warning(f\"Found `{alias}` in params. Will use it instead of argument\")\n",
      "C:\\Users\\kanat\\anaconda3\\lib\\site-packages\\lightgbm\\engine.py:172: UserWarning: Found `num_iterations` in params. Will use it instead of argument\n",
      "  _log_warning(f\"Found `{alias}` in params. Will use it instead of argument\")\n",
      "C:\\Users\\kanat\\anaconda3\\lib\\site-packages\\lightgbm\\engine.py:172: UserWarning: Found `num_iterations` in params. Will use it instead of argument\n",
      "  _log_warning(f\"Found `{alias}` in params. Will use it instead of argument\")\n",
      "C:\\Users\\kanat\\anaconda3\\lib\\site-packages\\lightgbm\\engine.py:172: UserWarning: Found `num_iterations` in params. Will use it instead of argument\n",
      "  _log_warning(f\"Found `{alias}` in params. Will use it instead of argument\")\n",
      "C:\\Users\\kanat\\anaconda3\\lib\\site-packages\\lightgbm\\engine.py:172: UserWarning: Found `num_iterations` in params. Will use it instead of argument\n",
      "  _log_warning(f\"Found `{alias}` in params. Will use it instead of argument\")\n",
      "C:\\Users\\kanat\\anaconda3\\lib\\site-packages\\lightgbm\\engine.py:172: UserWarning: Found `num_iterations` in params. Will use it instead of argument\n",
      "  _log_warning(f\"Found `{alias}` in params. Will use it instead of argument\")\n",
      "C:\\Users\\kanat\\anaconda3\\lib\\site-packages\\lightgbm\\engine.py:172: UserWarning: Found `num_iterations` in params. Will use it instead of argument\n",
      "  _log_warning(f\"Found `{alias}` in params. Will use it instead of argument\")\n",
      "C:\\Users\\kanat\\anaconda3\\lib\\site-packages\\lightgbm\\engine.py:172: UserWarning: Found `num_iterations` in params. Will use it instead of argument\n",
      "  _log_warning(f\"Found `{alias}` in params. Will use it instead of argument\")\n",
      "C:\\Users\\kanat\\anaconda3\\lib\\site-packages\\lightgbm\\engine.py:172: UserWarning: Found `num_iterations` in params. Will use it instead of argument\n",
      "  _log_warning(f\"Found `{alias}` in params. Will use it instead of argument\")\n",
      "C:\\Users\\kanat\\anaconda3\\lib\\site-packages\\lightgbm\\engine.py:172: UserWarning: Found `num_iterations` in params. Will use it instead of argument\n",
      "  _log_warning(f\"Found `{alias}` in params. Will use it instead of argument\")\n",
      "C:\\Users\\kanat\\anaconda3\\lib\\site-packages\\lightgbm\\engine.py:172: UserWarning: Found `num_iterations` in params. Will use it instead of argument\n",
      "  _log_warning(f\"Found `{alias}` in params. Will use it instead of argument\")\n",
      "C:\\Users\\kanat\\anaconda3\\lib\\site-packages\\lightgbm\\engine.py:172: UserWarning: Found `num_iterations` in params. Will use it instead of argument\n",
      "  _log_warning(f\"Found `{alias}` in params. Will use it instead of argument\")\n",
      "C:\\Users\\kanat\\anaconda3\\lib\\site-packages\\lightgbm\\engine.py:172: UserWarning: Found `num_iterations` in params. Will use it instead of argument\n",
      "  _log_warning(f\"Found `{alias}` in params. Will use it instead of argument\")\n",
      "C:\\Users\\kanat\\anaconda3\\lib\\site-packages\\lightgbm\\engine.py:172: UserWarning: Found `num_iterations` in params. Will use it instead of argument\n",
      "  _log_warning(f\"Found `{alias}` in params. Will use it instead of argument\")\n",
      "C:\\Users\\kanat\\anaconda3\\lib\\site-packages\\lightgbm\\engine.py:172: UserWarning: Found `num_iterations` in params. Will use it instead of argument\n",
      "  _log_warning(f\"Found `{alias}` in params. Will use it instead of argument\")\n",
      "C:\\Users\\kanat\\anaconda3\\lib\\site-packages\\lightgbm\\engine.py:172: UserWarning: Found `num_iterations` in params. Will use it instead of argument\n",
      "  _log_warning(f\"Found `{alias}` in params. Will use it instead of argument\")\n",
      "C:\\Users\\kanat\\anaconda3\\lib\\site-packages\\lightgbm\\engine.py:172: UserWarning: Found `num_iterations` in params. Will use it instead of argument\n",
      "  _log_warning(f\"Found `{alias}` in params. Will use it instead of argument\")\n",
      "C:\\Users\\kanat\\anaconda3\\lib\\site-packages\\lightgbm\\engine.py:172: UserWarning: Found `num_iterations` in params. Will use it instead of argument\n",
      "  _log_warning(f\"Found `{alias}` in params. Will use it instead of argument\")\n",
      "C:\\Users\\kanat\\anaconda3\\lib\\site-packages\\lightgbm\\engine.py:172: UserWarning: Found `num_iterations` in params. Will use it instead of argument\n",
      "  _log_warning(f\"Found `{alias}` in params. Will use it instead of argument\")\n"
     ]
    },
    {
     "name": "stderr",
     "output_type": "stream",
     "text": [
      "C:\\Users\\kanat\\anaconda3\\lib\\site-packages\\lightgbm\\engine.py:172: UserWarning: Found `num_iterations` in params. Will use it instead of argument\n",
      "  _log_warning(f\"Found `{alias}` in params. Will use it instead of argument\")\n",
      "C:\\Users\\kanat\\anaconda3\\lib\\site-packages\\lightgbm\\engine.py:172: UserWarning: Found `num_iterations` in params. Will use it instead of argument\n",
      "  _log_warning(f\"Found `{alias}` in params. Will use it instead of argument\")\n",
      "C:\\Users\\kanat\\anaconda3\\lib\\site-packages\\lightgbm\\engine.py:172: UserWarning: Found `num_iterations` in params. Will use it instead of argument\n",
      "  _log_warning(f\"Found `{alias}` in params. Will use it instead of argument\")\n",
      "C:\\Users\\kanat\\anaconda3\\lib\\site-packages\\lightgbm\\engine.py:172: UserWarning: Found `num_iterations` in params. Will use it instead of argument\n",
      "  _log_warning(f\"Found `{alias}` in params. Will use it instead of argument\")\n",
      "C:\\Users\\kanat\\anaconda3\\lib\\site-packages\\lightgbm\\engine.py:172: UserWarning: Found `num_iterations` in params. Will use it instead of argument\n",
      "  _log_warning(f\"Found `{alias}` in params. Will use it instead of argument\")\n",
      "C:\\Users\\kanat\\anaconda3\\lib\\site-packages\\lightgbm\\engine.py:172: UserWarning: Found `num_iterations` in params. Will use it instead of argument\n",
      "  _log_warning(f\"Found `{alias}` in params. Will use it instead of argument\")\n",
      "C:\\Users\\kanat\\anaconda3\\lib\\site-packages\\lightgbm\\engine.py:172: UserWarning: Found `num_iterations` in params. Will use it instead of argument\n",
      "  _log_warning(f\"Found `{alias}` in params. Will use it instead of argument\")\n",
      "C:\\Users\\kanat\\anaconda3\\lib\\site-packages\\lightgbm\\engine.py:172: UserWarning: Found `num_iterations` in params. Will use it instead of argument\n",
      "  _log_warning(f\"Found `{alias}` in params. Will use it instead of argument\")\n",
      "C:\\Users\\kanat\\anaconda3\\lib\\site-packages\\lightgbm\\engine.py:172: UserWarning: Found `num_iterations` in params. Will use it instead of argument\n",
      "  _log_warning(f\"Found `{alias}` in params. Will use it instead of argument\")\n",
      "C:\\Users\\kanat\\anaconda3\\lib\\site-packages\\lightgbm\\engine.py:172: UserWarning: Found `num_iterations` in params. Will use it instead of argument\n",
      "  _log_warning(f\"Found `{alias}` in params. Will use it instead of argument\")\n",
      "C:\\Users\\kanat\\anaconda3\\lib\\site-packages\\lightgbm\\engine.py:172: UserWarning: Found `num_iterations` in params. Will use it instead of argument\n",
      "  _log_warning(f\"Found `{alias}` in params. Will use it instead of argument\")\n",
      "C:\\Users\\kanat\\anaconda3\\lib\\site-packages\\lightgbm\\engine.py:172: UserWarning: Found `num_iterations` in params. Will use it instead of argument\n",
      "  _log_warning(f\"Found `{alias}` in params. Will use it instead of argument\")\n",
      "C:\\Users\\kanat\\anaconda3\\lib\\site-packages\\lightgbm\\engine.py:172: UserWarning: Found `num_iterations` in params. Will use it instead of argument\n",
      "  _log_warning(f\"Found `{alias}` in params. Will use it instead of argument\")\n",
      "C:\\Users\\kanat\\anaconda3\\lib\\site-packages\\lightgbm\\engine.py:172: UserWarning: Found `num_iterations` in params. Will use it instead of argument\n",
      "  _log_warning(f\"Found `{alias}` in params. Will use it instead of argument\")\n",
      "C:\\Users\\kanat\\anaconda3\\lib\\site-packages\\lightgbm\\engine.py:172: UserWarning: Found `num_iterations` in params. Will use it instead of argument\n",
      "  _log_warning(f\"Found `{alias}` in params. Will use it instead of argument\")\n",
      "C:\\Users\\kanat\\anaconda3\\lib\\site-packages\\lightgbm\\engine.py:172: UserWarning: Found `num_iterations` in params. Will use it instead of argument\n",
      "  _log_warning(f\"Found `{alias}` in params. Will use it instead of argument\")\n",
      "C:\\Users\\kanat\\anaconda3\\lib\\site-packages\\lightgbm\\engine.py:172: UserWarning: Found `num_iterations` in params. Will use it instead of argument\n",
      "  _log_warning(f\"Found `{alias}` in params. Will use it instead of argument\")\n",
      "C:\\Users\\kanat\\anaconda3\\lib\\site-packages\\lightgbm\\engine.py:172: UserWarning: Found `num_iterations` in params. Will use it instead of argument\n",
      "  _log_warning(f\"Found `{alias}` in params. Will use it instead of argument\")\n",
      "C:\\Users\\kanat\\anaconda3\\lib\\site-packages\\lightgbm\\engine.py:172: UserWarning: Found `num_iterations` in params. Will use it instead of argument\n",
      "  _log_warning(f\"Found `{alias}` in params. Will use it instead of argument\")\n",
      "C:\\Users\\kanat\\anaconda3\\lib\\site-packages\\lightgbm\\engine.py:172: UserWarning: Found `num_iterations` in params. Will use it instead of argument\n",
      "  _log_warning(f\"Found `{alias}` in params. Will use it instead of argument\")\n",
      "C:\\Users\\kanat\\anaconda3\\lib\\site-packages\\lightgbm\\engine.py:172: UserWarning: Found `num_iterations` in params. Will use it instead of argument\n",
      "  _log_warning(f\"Found `{alias}` in params. Will use it instead of argument\")\n",
      "C:\\Users\\kanat\\anaconda3\\lib\\site-packages\\lightgbm\\engine.py:172: UserWarning: Found `num_iterations` in params. Will use it instead of argument\n",
      "  _log_warning(f\"Found `{alias}` in params. Will use it instead of argument\")\n",
      "C:\\Users\\kanat\\anaconda3\\lib\\site-packages\\lightgbm\\engine.py:172: UserWarning: Found `num_iterations` in params. Will use it instead of argument\n",
      "  _log_warning(f\"Found `{alias}` in params. Will use it instead of argument\")\n",
      "C:\\Users\\kanat\\anaconda3\\lib\\site-packages\\lightgbm\\engine.py:172: UserWarning: Found `num_iterations` in params. Will use it instead of argument\n",
      "  _log_warning(f\"Found `{alias}` in params. Will use it instead of argument\")\n",
      "C:\\Users\\kanat\\anaconda3\\lib\\site-packages\\lightgbm\\engine.py:172: UserWarning: Found `num_iterations` in params. Will use it instead of argument\n",
      "  _log_warning(f\"Found `{alias}` in params. Will use it instead of argument\")\n",
      "C:\\Users\\kanat\\anaconda3\\lib\\site-packages\\lightgbm\\engine.py:172: UserWarning: Found `num_iterations` in params. Will use it instead of argument\n",
      "  _log_warning(f\"Found `{alias}` in params. Will use it instead of argument\")\n",
      "C:\\Users\\kanat\\anaconda3\\lib\\site-packages\\lightgbm\\engine.py:172: UserWarning: Found `num_iterations` in params. Will use it instead of argument\n",
      "  _log_warning(f\"Found `{alias}` in params. Will use it instead of argument\")\n"
     ]
    }
   ],
   "source": [
    "dic2 = ev.visualize(ev.X_test, fukusho=False, bins=30, balanced=False)"
   ]
  },
  {
   "cell_type": "code",
   "execution_count": 46,
   "id": "383e193c",
   "metadata": {
    "scrolled": true
   },
   "outputs": [
    {
     "data": {
      "image/png": "[encoded data removed]",
      "text/plain": [
       "<Figure size 640x480 with 1 Axes>"
      ]
     },
     "metadata": {},
     "output_type": "display_data"
    }
   ],
   "source": [
    "a = 0\n",
    "#plt.plot(dic3[\"invested\"], dic3[\"kaishuuritu\"], label=\"前のやつ\")\n",
    "plt.plot(dic2[\"invested\"], dic2[\"kaishuuritu\"], label=\"今のやつ\")\n",
    "#plt.fill_between(dic[\"invested\"], dic[\"kaishuuritu\"] - a*dic[\"std\"], dic[\"kaishuuritu\"] + a*dic[\"std\"], alpha=0.2)\n",
    "plt.legend()\n",
    "plt.xlabel(\"投資枚数\")\n",
    "plt.ylabel(\"回収率\")\n",
    "plt.grid()\n",
    "plt.show()"
   ]
  },
  {
   "cell_type": "code",
   "execution_count": null,
   "id": "a4ffd4f7",
   "metadata": {},
   "outputs": [],
   "source": []
  },
  {
   "cell_type": "code",
   "execution_count": null,
   "id": "1d576143",
   "metadata": {},
   "outputs": [],
   "source": []
  },
  {
   "cell_type": "code",
   "execution_count": null,
   "id": "2be75208",
   "metadata": {},
   "outputs": [],
   "source": []
  },
  {
   "cell_type": "code",
   "execution_count": 159,
   "id": "4374e328",
   "metadata": {
    "scrolled": true
   },
   "outputs": [
    {
     "data": {
      "application/vnd.jupyter.widget-view+json": {
       "model_id": "c39a03dead9a4402b0c0f7ee849fc24e",
       "version_major": 2,
       "version_minor": 0
      },
      "text/plain": [
       "  0%|          | 0/12 [00:00<?, ?it/s]"
      ]
     },
     "metadata": {},
     "output_type": "display_data"
    },
    {
     "name": "stderr",
     "output_type": "stream",
     "text": [
      "C:\\Users\\kanat\\anaconda3\\lib\\site-packages\\lightgbm\\engine.py:172: UserWarning: Found `num_iterations` in params. Will use it instead of argument\n",
      "  _log_warning(f\"Found `{alias}` in params. Will use it instead of argument\")\n",
      "C:\\Users\\kanat\\anaconda3\\lib\\site-packages\\lightgbm\\engine.py:172: UserWarning: Found `num_iterations` in params. Will use it instead of argument\n",
      "  _log_warning(f\"Found `{alias}` in params. Will use it instead of argument\")\n",
      "C:\\Users\\kanat\\anaconda3\\lib\\site-packages\\lightgbm\\engine.py:172: UserWarning: Found `num_iterations` in params. Will use it instead of argument\n",
      "  _log_warning(f\"Found `{alias}` in params. Will use it instead of argument\")\n",
      "C:\\Users\\kanat\\anaconda3\\lib\\site-packages\\lightgbm\\engine.py:172: UserWarning: Found `num_iterations` in params. Will use it instead of argument\n",
      "  _log_warning(f\"Found `{alias}` in params. Will use it instead of argument\")\n",
      "C:\\Users\\kanat\\anaconda3\\lib\\site-packages\\lightgbm\\engine.py:172: UserWarning: Found `num_iterations` in params. Will use it instead of argument\n",
      "  _log_warning(f\"Found `{alias}` in params. Will use it instead of argument\")\n",
      "C:\\Users\\kanat\\anaconda3\\lib\\site-packages\\lightgbm\\engine.py:172: UserWarning: Found `num_iterations` in params. Will use it instead of argument\n",
      "  _log_warning(f\"Found `{alias}` in params. Will use it instead of argument\")\n",
      "C:\\Users\\kanat\\anaconda3\\lib\\site-packages\\lightgbm\\engine.py:172: UserWarning: Found `num_iterations` in params. Will use it instead of argument\n",
      "  _log_warning(f\"Found `{alias}` in params. Will use it instead of argument\")\n",
      "C:\\Users\\kanat\\anaconda3\\lib\\site-packages\\lightgbm\\engine.py:172: UserWarning: Found `num_iterations` in params. Will use it instead of argument\n",
      "  _log_warning(f\"Found `{alias}` in params. Will use it instead of argument\")\n",
      "C:\\Users\\kanat\\anaconda3\\lib\\site-packages\\lightgbm\\engine.py:172: UserWarning: Found `num_iterations` in params. Will use it instead of argument\n",
      "  _log_warning(f\"Found `{alias}` in params. Will use it instead of argument\")\n",
      "C:\\Users\\kanat\\anaconda3\\lib\\site-packages\\lightgbm\\engine.py:172: UserWarning: Found `num_iterations` in params. Will use it instead of argument\n",
      "  _log_warning(f\"Found `{alias}` in params. Will use it instead of argument\")\n",
      "C:\\Users\\kanat\\anaconda3\\lib\\site-packages\\lightgbm\\engine.py:172: UserWarning: Found `num_iterations` in params. Will use it instead of argument\n",
      "  _log_warning(f\"Found `{alias}` in params. Will use it instead of argument\")\n",
      "C:\\Users\\kanat\\anaconda3\\lib\\site-packages\\lightgbm\\engine.py:172: UserWarning: Found `num_iterations` in params. Will use it instead of argument\n",
      "  _log_warning(f\"Found `{alias}` in params. Will use it instead of argument\")\n",
      "C:\\Users\\kanat\\anaconda3\\lib\\site-packages\\lightgbm\\engine.py:172: UserWarning: Found `num_iterations` in params. Will use it instead of argument\n",
      "  _log_warning(f\"Found `{alias}` in params. Will use it instead of argument\")\n",
      "C:\\Users\\kanat\\anaconda3\\lib\\site-packages\\lightgbm\\engine.py:172: UserWarning: Found `num_iterations` in params. Will use it instead of argument\n",
      "  _log_warning(f\"Found `{alias}` in params. Will use it instead of argument\")\n",
      "C:\\Users\\kanat\\anaconda3\\lib\\site-packages\\lightgbm\\engine.py:172: UserWarning: Found `num_iterations` in params. Will use it instead of argument\n",
      "  _log_warning(f\"Found `{alias}` in params. Will use it instead of argument\")\n",
      "C:\\Users\\kanat\\anaconda3\\lib\\site-packages\\lightgbm\\engine.py:172: UserWarning: Found `num_iterations` in params. Will use it instead of argument\n",
      "  _log_warning(f\"Found `{alias}` in params. Will use it instead of argument\")\n",
      "C:\\Users\\kanat\\anaconda3\\lib\\site-packages\\lightgbm\\engine.py:172: UserWarning: Found `num_iterations` in params. Will use it instead of argument\n",
      "  _log_warning(f\"Found `{alias}` in params. Will use it instead of argument\")\n",
      "C:\\Users\\kanat\\anaconda3\\lib\\site-packages\\lightgbm\\engine.py:172: UserWarning: Found `num_iterations` in params. Will use it instead of argument\n",
      "  _log_warning(f\"Found `{alias}` in params. Will use it instead of argument\")\n",
      "C:\\Users\\kanat\\anaconda3\\lib\\site-packages\\lightgbm\\engine.py:172: UserWarning: Found `num_iterations` in params. Will use it instead of argument\n",
      "  _log_warning(f\"Found `{alias}` in params. Will use it instead of argument\")\n",
      "C:\\Users\\kanat\\anaconda3\\lib\\site-packages\\lightgbm\\engine.py:172: UserWarning: Found `num_iterations` in params. Will use it instead of argument\n",
      "  _log_warning(f\"Found `{alias}` in params. Will use it instead of argument\")\n",
      "C:\\Users\\kanat\\anaconda3\\lib\\site-packages\\lightgbm\\engine.py:172: UserWarning: Found `num_iterations` in params. Will use it instead of argument\n",
      "  _log_warning(f\"Found `{alias}` in params. Will use it instead of argument\")\n",
      "C:\\Users\\kanat\\anaconda3\\lib\\site-packages\\lightgbm\\engine.py:172: UserWarning: Found `num_iterations` in params. Will use it instead of argument\n",
      "  _log_warning(f\"Found `{alias}` in params. Will use it instead of argument\")\n",
      "C:\\Users\\kanat\\anaconda3\\lib\\site-packages\\lightgbm\\engine.py:172: UserWarning: Found `num_iterations` in params. Will use it instead of argument\n",
      "  _log_warning(f\"Found `{alias}` in params. Will use it instead of argument\")\n",
      "C:\\Users\\kanat\\anaconda3\\lib\\site-packages\\lightgbm\\engine.py:172: UserWarning: Found `num_iterations` in params. Will use it instead of argument\n",
      "  _log_warning(f\"Found `{alias}` in params. Will use it instead of argument\")\n"
     ]
    }
   ],
   "source": [
    "thresholds = []\n",
    "accs = []\n",
    "f1s = []\n",
    "for i in tqdm(range(12)):\n",
    "    th = i / 10\n",
    "    thresholds.append(th)\n",
    "    acc = ev.acc_cal(th)\n",
    "    f1 = ev.f1_score_cal(th)\n",
    "    accs.append(acc)\n",
    "    f1s.append(f1)"
   ]
  },
  {
   "cell_type": "code",
   "execution_count": 573,
   "id": "8a1d586f",
   "metadata": {},
   "outputs": [],
   "source": [
    "tmp_x, y_train, tmp_y, y_test = train_test_split(X, y, test_size=0.3, shuffle=False)\n",
    "X_train, X_val, y_train, y_val = train_test_split(tmp_x, tmp_y, test_size=0.3, shuffle=False)"
   ]
  },
  {
   "cell_type": "code",
   "execution_count": 574,
   "id": "8dac2f69",
   "metadata": {},
   "outputs": [],
   "source": [
    "import optuna.integration.lightgbm as lgb_o\n",
    "lgb_train = lgb_o.Dataset(X_train.values, y_train.values)\n",
    "lgb_val = lgb_o.Dataset(X_val.values, y_val.values)"
   ]
  },
  {
   "cell_type": "code",
   "execution_count": 575,
   "id": "19b81960",
   "metadata": {
    "scrolled": true
   },
   "outputs": [
    {
     "name": "stderr",
     "output_type": "stream",
     "text": [
      "[I 2023-12-18 02:59:37,118] A new study created in memory with name: no-name-b7603ce8-5ec8-4041-859a-d896353c6308\n",
      "feature_fraction, val_score: -inf:   0%|                                                         | 0/7 [00:00<?, ?it/s]"
     ]
    },
    {
     "name": "stdout",
     "output_type": "stream",
     "text": [
      "[LightGBM] [Info] Number of positive: 4610, number of negative: 16575\n",
      "[LightGBM] [Info] Auto-choosing col-wise multi-threading, the overhead of testing was 0.003278 seconds.\n",
      "You can set `force_col_wise=true` to remove the overhead.\n",
      "[LightGBM] [Info] Total Bins 4662\n",
      "[LightGBM] [Info] Number of data points in the train set: 21185, number of used features: 32\n",
      "[LightGBM] [Info] [binary:BoostFromScore]: pavg=0.217607 -> initscore=-1.279668\n",
      "[LightGBM] [Info] Start training from score -1.279668\n"
     ]
    },
    {
     "name": "stderr",
     "output_type": "stream",
     "text": [
      "feature_fraction, val_score: 0.803047:  14%|######4                                      | 1/7 [00:05<00:31,  5.30s/it][I 2023-12-18 02:59:42,437] Trial 0 finished with value: 0.8030465879909442 and parameters: {'feature_fraction': 0.4}. Best is trial 0 with value: 0.8030465879909442.\n",
      "feature_fraction, val_score: 0.803047:  14%|######4                                      | 1/7 [00:05<00:31,  5.30s/it]"
     ]
    },
    {
     "name": "stdout",
     "output_type": "stream",
     "text": [
      "[LightGBM] [Info] Number of positive: 4610, number of negative: 16575\n",
      "[LightGBM] [Info] Auto-choosing col-wise multi-threading, the overhead of testing was 0.004113 seconds.\n",
      "You can set `force_col_wise=true` to remove the overhead.\n",
      "[LightGBM] [Info] Total Bins 4662\n",
      "[LightGBM] [Info] Number of data points in the train set: 21185, number of used features: 32\n",
      "[LightGBM] [Info] [binary:BoostFromScore]: pavg=0.217607 -> initscore=-1.279668\n",
      "[LightGBM] [Info] Start training from score -1.279668\n"
     ]
    },
    {
     "name": "stderr",
     "output_type": "stream",
     "text": [
      "feature_fraction, val_score: 0.803047:  29%|############8                                | 2/7 [00:10<00:27,  5.41s/it][I 2023-12-18 02:59:47,935] Trial 1 finished with value: 0.8005043898883852 and parameters: {'feature_fraction': 0.5}. Best is trial 0 with value: 0.8030465879909442.\n",
      "feature_fraction, val_score: 0.803047:  29%|############8                                | 2/7 [00:10<00:27,  5.41s/it]"
     ]
    },
    {
     "name": "stdout",
     "output_type": "stream",
     "text": [
      "[LightGBM] [Info] Number of positive: 4610, number of negative: 16575\n",
      "[LightGBM] [Info] Auto-choosing col-wise multi-threading, the overhead of testing was 0.005485 seconds.\n",
      "You can set `force_col_wise=true` to remove the overhead.\n",
      "[LightGBM] [Info] Total Bins 4662\n",
      "[LightGBM] [Info] Number of data points in the train set: 21185, number of used features: 32\n",
      "[LightGBM] [Info] [binary:BoostFromScore]: pavg=0.217607 -> initscore=-1.279668\n",
      "[LightGBM] [Info] Start training from score -1.279668\n"
     ]
    },
    {
     "name": "stderr",
     "output_type": "stream",
     "text": [
      "feature_fraction, val_score: 0.803047:  43%|###################2                         | 3/7 [00:16<00:22,  5.55s/it][I 2023-12-18 02:59:53,635] Trial 2 finished with value: 0.7977604131746282 and parameters: {'feature_fraction': 0.6}. Best is trial 0 with value: 0.8030465879909442.\n",
      "feature_fraction, val_score: 0.803047:  43%|###################2                         | 3/7 [00:16<00:22,  5.55s/it]"
     ]
    },
    {
     "name": "stdout",
     "output_type": "stream",
     "text": [
      "[LightGBM] [Info] Number of positive: 4610, number of negative: 16575\n",
      "[LightGBM] [Info] Auto-choosing col-wise multi-threading, the overhead of testing was 0.004839 seconds.\n",
      "You can set `force_col_wise=true` to remove the overhead.\n",
      "[LightGBM] [Info] Total Bins 4662\n",
      "[LightGBM] [Info] Number of data points in the train set: 21185, number of used features: 32\n",
      "[LightGBM] [Info] [binary:BoostFromScore]: pavg=0.217607 -> initscore=-1.279668\n",
      "[LightGBM] [Info] Start training from score -1.279668\n"
     ]
    },
    {
     "name": "stderr",
     "output_type": "stream",
     "text": [
      "feature_fraction, val_score: 0.803047:  57%|#########################7                   | 4/7 [00:22<00:17,  5.77s/it][I 2023-12-18 02:59:59,740] Trial 3 finished with value: 0.8014305183140286 and parameters: {'feature_fraction': 0.8}. Best is trial 0 with value: 0.8030465879909442.\n",
      "feature_fraction, val_score: 0.803047:  57%|#########################7                   | 4/7 [00:22<00:17,  5.77s/it]"
     ]
    },
    {
     "name": "stdout",
     "output_type": "stream",
     "text": [
      "[LightGBM] [Info] Number of positive: 4610, number of negative: 16575\n",
      "[LightGBM] [Info] Auto-choosing col-wise multi-threading, the overhead of testing was 0.004040 seconds.\n",
      "You can set `force_col_wise=true` to remove the overhead.\n",
      "[LightGBM] [Info] Total Bins 4662\n",
      "[LightGBM] [Info] Number of data points in the train set: 21185, number of used features: 32\n",
      "[LightGBM] [Info] [binary:BoostFromScore]: pavg=0.217607 -> initscore=-1.279668\n",
      "[LightGBM] [Info] Start training from score -1.279668\n"
     ]
    },
    {
     "name": "stderr",
     "output_type": "stream",
     "text": [
      "feature_fraction, val_score: 0.803047:  71%|################################1            | 5/7 [00:28<00:11,  5.91s/it][I 2023-12-18 03:00:05,906] Trial 4 finished with value: 0.800274928667721 and parameters: {'feature_fraction': 0.8999999999999999}. Best is trial 0 with value: 0.8030465879909442.\n",
      "feature_fraction, val_score: 0.803047:  71%|################################1            | 5/7 [00:28<00:11,  5.91s/it]"
     ]
    },
    {
     "name": "stdout",
     "output_type": "stream",
     "text": [
      "[LightGBM] [Info] Number of positive: 4610, number of negative: 16575\n",
      "[LightGBM] [Info] Auto-choosing col-wise multi-threading, the overhead of testing was 0.003965 seconds.\n",
      "You can set `force_col_wise=true` to remove the overhead.\n",
      "[LightGBM] [Info] Total Bins 4662\n",
      "[LightGBM] [Info] Number of data points in the train set: 21185, number of used features: 32\n",
      "[LightGBM] [Info] [binary:BoostFromScore]: pavg=0.217607 -> initscore=-1.279668\n",
      "[LightGBM] [Info] Start training from score -1.279668\n"
     ]
    },
    {
     "name": "stderr",
     "output_type": "stream",
     "text": [
      "feature_fraction, val_score: 0.803047:  86%|######################################5      | 6/7 [00:35<00:06,  6.05s/it][I 2023-12-18 03:00:12,223] Trial 5 finished with value: 0.7954105065485655 and parameters: {'feature_fraction': 1.0}. Best is trial 0 with value: 0.8030465879909442.\n",
      "feature_fraction, val_score: 0.803047:  86%|######################################5      | 6/7 [00:35<00:06,  6.05s/it]"
     ]
    },
    {
     "name": "stdout",
     "output_type": "stream",
     "text": [
      "[LightGBM] [Info] Number of positive: 4610, number of negative: 16575\n",
      "[LightGBM] [Info] Auto-choosing col-wise multi-threading, the overhead of testing was 0.003780 seconds.\n",
      "You can set `force_col_wise=true` to remove the overhead.\n",
      "[LightGBM] [Info] Total Bins 4662\n",
      "[LightGBM] [Info] Number of data points in the train set: 21185, number of used features: 32\n",
      "[LightGBM] [Info] [binary:BoostFromScore]: pavg=0.217607 -> initscore=-1.279668\n",
      "[LightGBM] [Info] Start training from score -1.279668\n"
     ]
    },
    {
     "name": "stderr",
     "output_type": "stream",
     "text": [
      "feature_fraction, val_score: 0.803047: 100%|#############################################| 7/7 [00:40<00:00,  5.98s/it][I 2023-12-18 03:00:18,074] Trial 6 finished with value: 0.7998242897693784 and parameters: {'feature_fraction': 0.7}. Best is trial 0 with value: 0.8030465879909442.\n",
      "feature_fraction, val_score: 0.803047: 100%|#############################################| 7/7 [00:40<00:00,  5.85s/it]\n",
      "num_leaves, val_score: 0.803047:   0%|                                                          | 0/20 [00:00<?, ?it/s]"
     ]
    },
    {
     "name": "stdout",
     "output_type": "stream",
     "text": [
      "[LightGBM] [Info] Number of positive: 4610, number of negative: 16575\n",
      "[LightGBM] [Info] Auto-choosing col-wise multi-threading, the overhead of testing was 0.004889 seconds.\n",
      "You can set `force_col_wise=true` to remove the overhead.\n",
      "[LightGBM] [Info] Total Bins 4662\n",
      "[LightGBM] [Info] Number of data points in the train set: 21185, number of used features: 32\n",
      "[LightGBM] [Info] [binary:BoostFromScore]: pavg=0.217607 -> initscore=-1.279668\n",
      "[LightGBM] [Info] Start training from score -1.279668\n"
     ]
    },
    {
     "name": "stderr",
     "output_type": "stream",
     "text": [
      "num_leaves, val_score: 0.803047:   5%|##5                                               | 1/20 [00:07<02:24,  7.58s/it][I 2023-12-18 03:00:25,669] Trial 7 finished with value: 0.7972328152059796 and parameters: {'num_leaves': 71}. Best is trial 7 with value: 0.7972328152059796.\n",
      "num_leaves, val_score: 0.803047:   5%|##5                                               | 1/20 [00:07<02:24,  7.58s/it]"
     ]
    },
    {
     "name": "stdout",
     "output_type": "stream",
     "text": [
      "[LightGBM] [Info] Number of positive: 4610, number of negative: 16575\n",
      "[LightGBM] [Info] Auto-choosing col-wise multi-threading, the overhead of testing was 0.004732 seconds.\n",
      "You can set `force_col_wise=true` to remove the overhead.\n",
      "[LightGBM] [Info] Total Bins 4662\n",
      "[LightGBM] [Info] Number of data points in the train set: 21185, number of used features: 32\n",
      "[LightGBM] [Info] [binary:BoostFromScore]: pavg=0.217607 -> initscore=-1.279668\n",
      "[LightGBM] [Info] Start training from score -1.279668\n"
     ]
    },
    {
     "name": "stderr",
     "output_type": "stream",
     "text": [
      "num_leaves, val_score: 0.803047:  10%|#####                                             | 2/20 [00:20<03:09, 10.52s/it][I 2023-12-18 03:00:38,249] Trial 8 finished with value: 0.7961970891346749 and parameters: {'num_leaves': 166}. Best is trial 7 with value: 0.7972328152059796.\n",
      "num_leaves, val_score: 0.803047:  10%|#####                                             | 2/20 [00:20<03:09, 10.52s/it]"
     ]
    },
    {
     "name": "stdout",
     "output_type": "stream",
     "text": [
      "[LightGBM] [Info] Number of positive: 4610, number of negative: 16575\n",
      "[LightGBM] [Info] Auto-choosing col-wise multi-threading, the overhead of testing was 0.005814 seconds.\n",
      "You can set `force_col_wise=true` to remove the overhead.\n",
      "[LightGBM] [Info] Total Bins 4662\n",
      "[LightGBM] [Info] Number of data points in the train set: 21185, number of used features: 32\n",
      "[LightGBM] [Info] [binary:BoostFromScore]: pavg=0.217607 -> initscore=-1.279668\n",
      "[LightGBM] [Info] Start training from score -1.279668\n"
     ]
    },
    {
     "name": "stderr",
     "output_type": "stream",
     "text": [
      "num_leaves, val_score: 0.803047:  15%|#######5                                          | 3/20 [00:29<02:48,  9.92s/it][I 2023-12-18 03:00:47,462] Trial 9 finished with value: 0.7988626907878719 and parameters: {'num_leaves': 99}. Best is trial 9 with value: 0.7988626907878719.\n",
      "num_leaves, val_score: 0.803047:  15%|#######5                                          | 3/20 [00:29<02:48,  9.92s/it]"
     ]
    },
    {
     "name": "stdout",
     "output_type": "stream",
     "text": [
      "[LightGBM] [Info] Number of positive: 4610, number of negative: 16575\n",
      "[LightGBM] [Info] Auto-choosing col-wise multi-threading, the overhead of testing was 0.002955 seconds.\n",
      "You can set `force_col_wise=true` to remove the overhead.\n",
      "[LightGBM] [Info] Total Bins 4662\n",
      "[LightGBM] [Info] Number of data points in the train set: 21185, number of used features: 32\n",
      "[LightGBM] [Info] [binary:BoostFromScore]: pavg=0.217607 -> initscore=-1.279668\n",
      "[LightGBM] [Info] Start training from score -1.279668\n"
     ]
    },
    {
     "name": "stderr",
     "output_type": "stream",
     "text": [
      "num_leaves, val_score: 0.803047:  20%|##########                                        | 4/20 [00:46<03:22, 12.67s/it][I 2023-12-18 03:01:04,351] Trial 10 finished with value: 0.7939832591720237 and parameters: {'num_leaves': 244}. Best is trial 9 with value: 0.7988626907878719.\n",
      "num_leaves, val_score: 0.803047:  20%|##########                                        | 4/20 [00:46<03:22, 12.67s/it]"
     ]
    },
    {
     "name": "stdout",
     "output_type": "stream",
     "text": [
      "[LightGBM] [Info] Number of positive: 4610, number of negative: 16575\n",
      "[LightGBM] [Info] Auto-choosing col-wise multi-threading, the overhead of testing was 0.003278 seconds.\n",
      "You can set `force_col_wise=true` to remove the overhead.\n",
      "[LightGBM] [Info] Total Bins 4662\n",
      "[LightGBM] [Info] Number of data points in the train set: 21185, number of used features: 32\n",
      "[LightGBM] [Info] [binary:BoostFromScore]: pavg=0.217607 -> initscore=-1.279668\n",
      "[LightGBM] [Info] Start training from score -1.279668\n"
     ]
    },
    {
     "name": "stderr",
     "output_type": "stream",
     "text": [
      "num_leaves, val_score: 0.804546:  25%|############5                                     | 5/20 [00:50<02:25,  9.68s/it][I 2023-12-18 03:01:08,717] Trial 11 finished with value: 0.8045461216699538 and parameters: {'num_leaves': 13}. Best is trial 11 with value: 0.8045461216699538.\n",
      "num_leaves, val_score: 0.804546:  25%|############5                                     | 5/20 [00:50<02:25,  9.68s/it]"
     ]
    },
    {
     "name": "stdout",
     "output_type": "stream",
     "text": [
      "[LightGBM] [Info] Number of positive: 4610, number of negative: 16575\n",
      "[LightGBM] [Info] Auto-choosing col-wise multi-threading, the overhead of testing was 0.003727 seconds.\n",
      "You can set `force_col_wise=true` to remove the overhead.\n",
      "[LightGBM] [Info] Total Bins 4662\n",
      "[LightGBM] [Info] Number of data points in the train set: 21185, number of used features: 32\n",
      "[LightGBM] [Info] [binary:BoostFromScore]: pavg=0.217607 -> initscore=-1.279668\n",
      "[LightGBM] [Info] Start training from score -1.279668\n"
     ]
    },
    {
     "name": "stderr",
     "output_type": "stream",
     "text": [
      "num_leaves, val_score: 0.809334:  30%|###############                                   | 6/20 [00:54<01:48,  7.73s/it][I 2023-12-18 03:01:12,655] Trial 12 finished with value: 0.8093343635134428 and parameters: {'num_leaves': 7}. Best is trial 12 with value: 0.8093343635134428.\n",
      "num_leaves, val_score: 0.809334:  30%|###############                                   | 6/20 [00:54<01:48,  7.73s/it]"
     ]
    },
    {
     "name": "stdout",
     "output_type": "stream",
     "text": [
      "[LightGBM] [Info] Number of positive: 4610, number of negative: 16575\n",
      "[LightGBM] [Info] Auto-choosing row-wise multi-threading, the overhead of testing was 0.000680 seconds.\n",
      "You can set `force_row_wise=true` to remove the overhead.\n",
      "And if memory is not enough, you can set `force_col_wise=true`.\n",
      "[LightGBM] [Info] Total Bins 4662\n",
      "[LightGBM] [Info] Number of data points in the train set: 21185, number of used features: 32\n",
      "[LightGBM] [Info] [binary:BoostFromScore]: pavg=0.217607 -> initscore=-1.279668\n",
      "[LightGBM] [Info] Start training from score -1.279668\n"
     ]
    },
    {
     "name": "stderr",
     "output_type": "stream",
     "text": [
      "num_leaves, val_score: 0.809334:  35%|#################5                                | 7/20 [00:59<01:28,  6.83s/it][I 2023-12-18 03:01:17,631] Trial 13 finished with value: 0.8038183734788991 and parameters: {'num_leaves': 15}. Best is trial 12 with value: 0.8093343635134428.\n",
      "num_leaves, val_score: 0.809334:  35%|#################5                                | 7/20 [00:59<01:28,  6.83s/it]"
     ]
    },
    {
     "name": "stdout",
     "output_type": "stream",
     "text": [
      "[LightGBM] [Info] Number of positive: 4610, number of negative: 16575\n",
      "[LightGBM] [Info] Auto-choosing col-wise multi-threading, the overhead of testing was 0.004827 seconds.\n",
      "You can set `force_col_wise=true` to remove the overhead.\n",
      "[LightGBM] [Info] Total Bins 4662\n",
      "[LightGBM] [Info] Number of data points in the train set: 21185, number of used features: 32\n",
      "[LightGBM] [Info] [binary:BoostFromScore]: pavg=0.217607 -> initscore=-1.279668\n",
      "[LightGBM] [Info] Start training from score -1.279668\n"
     ]
    },
    {
     "name": "stderr",
     "output_type": "stream",
     "text": [
      "num_leaves, val_score: 0.809334:  40%|####################                              | 8/20 [01:03<01:11,  5.92s/it][I 2023-12-18 03:01:21,601] Trial 14 finished with value: 0.8088921497571117 and parameters: {'num_leaves': 8}. Best is trial 12 with value: 0.8093343635134428.\n",
      "num_leaves, val_score: 0.809334:  40%|####################                              | 8/20 [01:03<01:11,  5.92s/it]"
     ]
    },
    {
     "name": "stdout",
     "output_type": "stream",
     "text": [
      "[LightGBM] [Info] Number of positive: 4610, number of negative: 16575\n",
      "[LightGBM] [Info] Auto-choosing col-wise multi-threading, the overhead of testing was 0.004046 seconds.\n",
      "You can set `force_col_wise=true` to remove the overhead.\n",
      "[LightGBM] [Info] Total Bins 4662\n",
      "[LightGBM] [Info] Number of data points in the train set: 21185, number of used features: 32\n",
      "[LightGBM] [Info] [binary:BoostFromScore]: pavg=0.217607 -> initscore=-1.279668\n",
      "[LightGBM] [Info] Start training from score -1.279668\n"
     ]
    },
    {
     "name": "stderr",
     "output_type": "stream",
     "text": [
      "num_leaves, val_score: 0.809334:  45%|######################5                           | 9/20 [01:08<01:00,  5.47s/it][I 2023-12-18 03:01:26,096] Trial 15 finished with value: 0.8047552634304729 and parameters: {'num_leaves': 16}. Best is trial 12 with value: 0.8093343635134428.\n",
      "num_leaves, val_score: 0.809334:  45%|######################5                           | 9/20 [01:08<01:00,  5.47s/it]"
     ]
    },
    {
     "name": "stdout",
     "output_type": "stream",
     "text": [
      "[LightGBM] [Info] Number of positive: 4610, number of negative: 16575\n",
      "[LightGBM] [Info] Auto-choosing col-wise multi-threading, the overhead of testing was 0.004261 seconds.\n",
      "You can set `force_col_wise=true` to remove the overhead.\n",
      "[LightGBM] [Info] Total Bins 4662\n",
      "[LightGBM] [Info] Number of data points in the train set: 21185, number of used features: 32\n",
      "[LightGBM] [Info] [binary:BoostFromScore]: pavg=0.217607 -> initscore=-1.279668\n",
      "[LightGBM] [Info] Start training from score -1.279668\n"
     ]
    },
    {
     "name": "stderr",
     "output_type": "stream",
     "text": [
      "num_leaves, val_score: 0.809334:  50%|########################5                        | 10/20 [01:15<00:59,  6.00s/it][I 2023-12-18 03:01:33,269] Trial 16 finished with value: 0.7996996826270244 and parameters: {'num_leaves': 60}. Best is trial 12 with value: 0.8093343635134428.\n",
      "num_leaves, val_score: 0.809334:  50%|########################5                        | 10/20 [01:15<00:59,  6.00s/it]"
     ]
    },
    {
     "name": "stdout",
     "output_type": "stream",
     "text": [
      "[LightGBM] [Info] Number of positive: 4610, number of negative: 16575\n",
      "[LightGBM] [Info] Auto-choosing col-wise multi-threading, the overhead of testing was 0.003177 seconds.\n",
      "You can set `force_col_wise=true` to remove the overhead.\n",
      "[LightGBM] [Info] Total Bins 4662\n",
      "[LightGBM] [Info] Number of data points in the train set: 21185, number of used features: 32\n",
      "[LightGBM] [Info] [binary:BoostFromScore]: pavg=0.217607 -> initscore=-1.279668\n",
      "[LightGBM] [Info] Start training from score -1.279668\n"
     ]
    },
    {
     "name": "stderr",
     "output_type": "stream",
     "text": [
      "num_leaves, val_score: 0.809334:  55%|##########################9                      | 11/20 [01:27<01:10,  7.79s/it][I 2023-12-18 03:01:45,123] Trial 17 finished with value: 0.7982006445446037 and parameters: {'num_leaves': 153}. Best is trial 12 with value: 0.8093343635134428.\n",
      "num_leaves, val_score: 0.809334:  55%|##########################9                      | 11/20 [01:27<01:10,  7.79s/it]"
     ]
    },
    {
     "name": "stdout",
     "output_type": "stream",
     "text": [
      "[LightGBM] [Info] Number of positive: 4610, number of negative: 16575\n",
      "[LightGBM] [Info] Auto-choosing col-wise multi-threading, the overhead of testing was 0.004162 seconds.\n",
      "You can set `force_col_wise=true` to remove the overhead.\n",
      "[LightGBM] [Info] Total Bins 4662\n",
      "[LightGBM] [Info] Number of data points in the train set: 21185, number of used features: 32\n",
      "[LightGBM] [Info] [binary:BoostFromScore]: pavg=0.217607 -> initscore=-1.279668\n",
      "[LightGBM] [Info] Start training from score -1.279668\n"
     ]
    },
    {
     "name": "stderr",
     "output_type": "stream",
     "text": [
      "num_leaves, val_score: 0.809334:  60%|#############################4                   | 12/20 [01:33<00:59,  7.49s/it][I 2023-12-18 03:01:51,933] Trial 18 finished with value: 0.7995296221975163 and parameters: {'num_leaves': 56}. Best is trial 12 with value: 0.8093343635134428.\n",
      "num_leaves, val_score: 0.809334:  60%|#############################4                   | 12/20 [01:33<00:59,  7.49s/it]"
     ]
    },
    {
     "name": "stdout",
     "output_type": "stream",
     "text": [
      "[LightGBM] [Info] Number of positive: 4610, number of negative: 16575\n",
      "[LightGBM] [Info] Auto-choosing col-wise multi-threading, the overhead of testing was 0.003300 seconds.\n",
      "You can set `force_col_wise=true` to remove the overhead.\n",
      "[LightGBM] [Info] Total Bins 4662\n",
      "[LightGBM] [Info] Number of data points in the train set: 21185, number of used features: 32\n",
      "[LightGBM] [Info] [binary:BoostFromScore]: pavg=0.217607 -> initscore=-1.279668\n",
      "[LightGBM] [Info] Start training from score -1.279668\n"
     ]
    },
    {
     "name": "stderr",
     "output_type": "stream",
     "text": [
      "num_leaves, val_score: 0.809334:  65%|###############################8                 | 13/20 [01:48<01:07,  9.68s/it][I 2023-12-18 03:02:06,662] Trial 19 finished with value: 0.79669523450604 and parameters: {'num_leaves': 207}. Best is trial 12 with value: 0.8093343635134428.\n",
      "num_leaves, val_score: 0.809334:  65%|###############################8                 | 13/20 [01:48<01:07,  9.68s/it]"
     ]
    },
    {
     "name": "stdout",
     "output_type": "stream",
     "text": [
      "[LightGBM] [Info] Number of positive: 4610, number of negative: 16575\n",
      "[LightGBM] [Info] Auto-choosing col-wise multi-threading, the overhead of testing was 0.002970 seconds.\n",
      "You can set `force_col_wise=true` to remove the overhead.\n",
      "[LightGBM] [Info] Total Bins 4662\n",
      "[LightGBM] [Info] Number of data points in the train set: 21185, number of used features: 32\n",
      "[LightGBM] [Info] [binary:BoostFromScore]: pavg=0.217607 -> initscore=-1.279668\n",
      "[LightGBM] [Info] Start training from score -1.279668\n"
     ]
    },
    {
     "name": "stderr",
     "output_type": "stream",
     "text": [
      "num_leaves, val_score: 0.809334:  70%|##################################3              | 14/20 [01:58<00:58,  9.68s/it][I 2023-12-18 03:02:16,334] Trial 20 finished with value: 0.7982185568213171 and parameters: {'num_leaves': 110}. Best is trial 12 with value: 0.8093343635134428.\n",
      "num_leaves, val_score: 0.809334:  70%|##################################3              | 14/20 [01:58<00:58,  9.68s/it]"
     ]
    },
    {
     "name": "stdout",
     "output_type": "stream",
     "text": [
      "[LightGBM] [Info] Number of positive: 4610, number of negative: 16575\n",
      "[LightGBM] [Info] Auto-choosing col-wise multi-threading, the overhead of testing was 0.003785 seconds.\n",
      "You can set `force_col_wise=true` to remove the overhead.\n",
      "[LightGBM] [Info] Total Bins 4662\n",
      "[LightGBM] [Info] Number of data points in the train set: 21185, number of used features: 32\n",
      "[LightGBM] [Info] [binary:BoostFromScore]: pavg=0.217607 -> initscore=-1.279668\n",
      "[LightGBM] [Info] Start training from score -1.279668\n"
     ]
    },
    {
     "name": "stderr",
     "output_type": "stream",
     "text": [
      "num_leaves, val_score: 0.809334:  75%|####################################7            | 15/20 [02:02<00:40,  8.01s/it][I 2023-12-18 03:02:20,472] Trial 21 finished with value: 0.8078376618149412 and parameters: {'num_leaves': 9}. Best is trial 12 with value: 0.8093343635134428.\n",
      "num_leaves, val_score: 0.809334:  75%|####################################7            | 15/20 [02:02<00:40,  8.01s/it]"
     ]
    },
    {
     "name": "stdout",
     "output_type": "stream",
     "text": [
      "[LightGBM] [Info] Number of positive: 4610, number of negative: 16575\n",
      "[LightGBM] [Info] Auto-choosing col-wise multi-threading, the overhead of testing was 0.003682 seconds.\n",
      "You can set `force_col_wise=true` to remove the overhead.\n",
      "[LightGBM] [Info] Total Bins 4662\n",
      "[LightGBM] [Info] Number of data points in the train set: 21185, number of used features: 32\n",
      "[LightGBM] [Info] [binary:BoostFromScore]: pavg=0.217607 -> initscore=-1.279668\n",
      "[LightGBM] [Info] Start training from score -1.279668\n"
     ]
    },
    {
     "name": "stderr",
     "output_type": "stream",
     "text": [
      "num_leaves, val_score: 0.820601:  80%|#######################################2         | 16/20 [02:06<00:26,  6.69s/it][I 2023-12-18 03:02:24,083] Trial 22 finished with value: 0.820601079366891 and parameters: {'num_leaves': 2}. Best is trial 22 with value: 0.820601079366891.\n",
      "num_leaves, val_score: 0.820601:  80%|#######################################2         | 16/20 [02:06<00:26,  6.69s/it]"
     ]
    },
    {
     "name": "stdout",
     "output_type": "stream",
     "text": [
      "[LightGBM] [Info] Number of positive: 4610, number of negative: 16575\n",
      "[LightGBM] [Info] Auto-choosing row-wise multi-threading, the overhead of testing was 0.000661 seconds.\n",
      "You can set `force_row_wise=true` to remove the overhead.\n",
      "And if memory is not enough, you can set `force_col_wise=true`.\n",
      "[LightGBM] [Info] Total Bins 4662\n",
      "[LightGBM] [Info] Number of data points in the train set: 21185, number of used features: 32\n",
      "[LightGBM] [Info] [binary:BoostFromScore]: pavg=0.217607 -> initscore=-1.279668\n",
      "[LightGBM] [Info] Start training from score -1.279668\n"
     ]
    },
    {
     "name": "stderr",
     "output_type": "stream",
     "text": [
      "num_leaves, val_score: 0.820601:  85%|#########################################6       | 17/20 [02:13<00:20,  6.85s/it][I 2023-12-18 03:02:31,312] Trial 23 finished with value: 0.801376639884863 and parameters: {'num_leaves': 45}. Best is trial 22 with value: 0.820601079366891.\n",
      "num_leaves, val_score: 0.820601:  85%|#########################################6       | 17/20 [02:13<00:20,  6.85s/it]"
     ]
    },
    {
     "name": "stdout",
     "output_type": "stream",
     "text": [
      "[LightGBM] [Info] Number of positive: 4610, number of negative: 16575\n",
      "[LightGBM] [Info] Auto-choosing col-wise multi-threading, the overhead of testing was 0.002692 seconds.\n",
      "You can set `force_col_wise=true` to remove the overhead.\n",
      "[LightGBM] [Info] Total Bins 4662\n",
      "[LightGBM] [Info] Number of data points in the train set: 21185, number of used features: 32\n",
      "[LightGBM] [Info] [binary:BoostFromScore]: pavg=0.217607 -> initscore=-1.279668\n",
      "[LightGBM] [Info] Start training from score -1.279668\n"
     ]
    },
    {
     "name": "stderr",
     "output_type": "stream",
     "text": [
      "num_leaves, val_score: 0.820601:  90%|############################################1    | 18/20 [02:20<00:13,  6.95s/it][I 2023-12-18 03:02:38,492] Trial 24 finished with value: 0.7998555123544796 and parameters: {'num_leaves': 37}. Best is trial 22 with value: 0.820601079366891.\n",
      "num_leaves, val_score: 0.820601:  90%|############################################1    | 18/20 [02:20<00:13,  6.95s/it]"
     ]
    },
    {
     "name": "stdout",
     "output_type": "stream",
     "text": [
      "[LightGBM] [Info] Number of positive: 4610, number of negative: 16575\n",
      "[LightGBM] [Info] Auto-choosing col-wise multi-threading, the overhead of testing was 0.005582 seconds.\n",
      "You can set `force_col_wise=true` to remove the overhead.\n",
      "[LightGBM] [Info] Total Bins 4662\n",
      "[LightGBM] [Info] Number of data points in the train set: 21185, number of used features: 32\n",
      "[LightGBM] [Info] [binary:BoostFromScore]: pavg=0.217607 -> initscore=-1.279668\n",
      "[LightGBM] [Info] Start training from score -1.279668\n"
     ]
    },
    {
     "name": "stderr",
     "output_type": "stream",
     "text": [
      "num_leaves, val_score: 0.820601:  95%|##############################################5  | 19/20 [02:28<00:07,  7.38s/it][I 2023-12-18 03:02:46,875] Trial 25 finished with value: 0.8008207929106466 and parameters: {'num_leaves': 75}. Best is trial 22 with value: 0.820601079366891.\n",
      "num_leaves, val_score: 0.820601:  95%|##############################################5  | 19/20 [02:28<00:07,  7.38s/it]"
     ]
    },
    {
     "name": "stdout",
     "output_type": "stream",
     "text": [
      "[LightGBM] [Info] Number of positive: 4610, number of negative: 16575\n",
      "[LightGBM] [Info] Auto-choosing col-wise multi-threading, the overhead of testing was 0.005706 seconds.\n",
      "You can set `force_col_wise=true` to remove the overhead.\n",
      "[LightGBM] [Info] Total Bins 4662\n",
      "[LightGBM] [Info] Number of data points in the train set: 21185, number of used features: 32\n",
      "[LightGBM] [Info] [binary:BoostFromScore]: pavg=0.217607 -> initscore=-1.279668\n",
      "[LightGBM] [Info] Start training from score -1.279668\n"
     ]
    },
    {
     "name": "stderr",
     "output_type": "stream",
     "text": [
      "num_leaves, val_score: 0.820601: 100%|#################################################| 20/20 [02:34<00:00,  6.86s/it][I 2023-12-18 03:02:52,540] Trial 26 finished with value: 0.8024821742756909 and parameters: {'num_leaves': 33}. Best is trial 22 with value: 0.820601079366891.\n",
      "num_leaves, val_score: 0.820601: 100%|#################################################| 20/20 [02:34<00:00,  7.72s/it]\n",
      "bagging, val_score: 0.820601:   0%|                                                             | 0/10 [00:00<?, ?it/s]"
     ]
    },
    {
     "name": "stdout",
     "output_type": "stream",
     "text": [
      "[LightGBM] [Info] Number of positive: 4610, number of negative: 16575\n",
      "[LightGBM] [Info] Auto-choosing col-wise multi-threading, the overhead of testing was 0.003032 seconds.\n",
      "You can set `force_col_wise=true` to remove the overhead.\n",
      "[LightGBM] [Info] Total Bins 4662\n",
      "[LightGBM] [Info] Number of data points in the train set: 21185, number of used features: 32\n",
      "[LightGBM] [Info] [binary:BoostFromScore]: pavg=0.217607 -> initscore=-1.279668\n",
      "[LightGBM] [Info] Start training from score -1.279668\n"
     ]
    },
    {
     "name": "stderr",
     "output_type": "stream",
     "text": [
      "bagging, val_score: 0.820601:  10%|#####3                                               | 1/10 [00:03<00:34,  3.78s/it][I 2023-12-18 03:02:56,337] Trial 27 finished with value: 0.820275224609684 and parameters: {'bagging_fraction': 0.9491396061675355, 'bagging_freq': 2}. Best is trial 27 with value: 0.820275224609684.\n",
      "bagging, val_score: 0.820601:  10%|#####3                                               | 1/10 [00:03<00:34,  3.78s/it]"
     ]
    },
    {
     "name": "stdout",
     "output_type": "stream",
     "text": [
      "[LightGBM] [Info] Number of positive: 4610, number of negative: 16575\n",
      "[LightGBM] [Info] Auto-choosing col-wise multi-threading, the overhead of testing was 0.004141 seconds.\n",
      "You can set `force_col_wise=true` to remove the overhead.\n",
      "[LightGBM] [Info] Total Bins 4662\n",
      "[LightGBM] [Info] Number of data points in the train set: 21185, number of used features: 32\n",
      "[LightGBM] [Info] [binary:BoostFromScore]: pavg=0.217607 -> initscore=-1.279668\n",
      "[LightGBM] [Info] Start training from score -1.279668\n"
     ]
    },
    {
     "name": "stderr",
     "output_type": "stream",
     "text": [
      "bagging, val_score: 0.820601:  20%|##########6                                          | 2/10 [00:07<00:30,  3.78s/it][I 2023-12-18 03:03:00,118] Trial 28 finished with value: 0.8204088940896638 and parameters: {'bagging_fraction': 0.9647320185908103, 'bagging_freq': 2}. Best is trial 28 with value: 0.8204088940896638.\n",
      "bagging, val_score: 0.820601:  20%|##########6                                          | 2/10 [00:07<00:30,  3.78s/it]"
     ]
    },
    {
     "name": "stdout",
     "output_type": "stream",
     "text": [
      "[LightGBM] [Info] Number of positive: 4610, number of negative: 16575\n",
      "[LightGBM] [Info] Auto-choosing col-wise multi-threading, the overhead of testing was 0.004132 seconds.\n",
      "You can set `force_col_wise=true` to remove the overhead.\n",
      "[LightGBM] [Info] Total Bins 4662\n",
      "[LightGBM] [Info] Number of data points in the train set: 21185, number of used features: 32\n",
      "[LightGBM] [Info] [binary:BoostFromScore]: pavg=0.217607 -> initscore=-1.279668\n",
      "[LightGBM] [Info] Start training from score -1.279668\n"
     ]
    },
    {
     "name": "stderr",
     "output_type": "stream",
     "text": [
      "bagging, val_score: 0.820601:  30%|###############9                                     | 3/10 [00:11<00:26,  3.77s/it][I 2023-12-18 03:03:03,883] Trial 29 finished with value: 0.8203872294387772 and parameters: {'bagging_fraction': 0.9768626107307689, 'bagging_freq': 2}. Best is trial 28 with value: 0.8204088940896638.\n",
      "bagging, val_score: 0.820601:  30%|###############9                                     | 3/10 [00:11<00:26,  3.77s/it]"
     ]
    },
    {
     "name": "stdout",
     "output_type": "stream",
     "text": [
      "[LightGBM] [Info] Number of positive: 4610, number of negative: 16575\n",
      "[LightGBM] [Info] Auto-choosing col-wise multi-threading, the overhead of testing was 0.003263 seconds.\n",
      "You can set `force_col_wise=true` to remove the overhead.\n",
      "[LightGBM] [Info] Total Bins 4662\n",
      "[LightGBM] [Info] Number of data points in the train set: 21185, number of used features: 32\n",
      "[LightGBM] [Info] [binary:BoostFromScore]: pavg=0.217607 -> initscore=-1.279668\n",
      "[LightGBM] [Info] Start training from score -1.279668\n"
     ]
    },
    {
     "name": "stderr",
     "output_type": "stream",
     "text": [
      "bagging, val_score: 0.820601:  40%|#####################2                               | 4/10 [00:15<00:23,  3.84s/it][I 2023-12-18 03:03:07,810] Trial 30 finished with value: 0.8203249258676002 and parameters: {'bagging_fraction': 0.9869727773138708, 'bagging_freq': 2}. Best is trial 28 with value: 0.8204088940896638.\n",
      "bagging, val_score: 0.820601:  40%|#####################2                               | 4/10 [00:15<00:23,  3.84s/it]"
     ]
    },
    {
     "name": "stdout",
     "output_type": "stream",
     "text": [
      "[LightGBM] [Info] Number of positive: 4610, number of negative: 16575\n",
      "[LightGBM] [Info] Auto-choosing col-wise multi-threading, the overhead of testing was 0.003699 seconds.\n",
      "You can set `force_col_wise=true` to remove the overhead.\n",
      "[LightGBM] [Info] Total Bins 4662\n",
      "[LightGBM] [Info] Number of data points in the train set: 21185, number of used features: 32\n",
      "[LightGBM] [Info] [binary:BoostFromScore]: pavg=0.217607 -> initscore=-1.279668\n",
      "[LightGBM] [Info] Start training from score -1.279668\n"
     ]
    },
    {
     "name": "stderr",
     "output_type": "stream",
     "text": [
      "bagging, val_score: 0.820601:  50%|##########################5                          | 5/10 [00:19<00:19,  3.85s/it][I 2023-12-18 03:03:11,677] Trial 31 finished with value: 0.8199950709379258 and parameters: {'bagging_fraction': 0.9654602727965308, 'bagging_freq': 2}. Best is trial 28 with value: 0.8204088940896638.\n",
      "bagging, val_score: 0.820601:  50%|##########################5                          | 5/10 [00:19<00:19,  3.85s/it]"
     ]
    },
    {
     "name": "stdout",
     "output_type": "stream",
     "text": [
      "[LightGBM] [Info] Number of positive: 4610, number of negative: 16575\n",
      "[LightGBM] [Info] Auto-choosing col-wise multi-threading, the overhead of testing was 0.005198 seconds.\n",
      "You can set `force_col_wise=true` to remove the overhead.\n",
      "[LightGBM] [Info] Total Bins 4662\n",
      "[LightGBM] [Info] Number of data points in the train set: 21185, number of used features: 32\n",
      "[LightGBM] [Info] [binary:BoostFromScore]: pavg=0.217607 -> initscore=-1.279668\n",
      "[LightGBM] [Info] Start training from score -1.279668\n"
     ]
    },
    {
     "name": "stderr",
     "output_type": "stream",
     "text": [
      "bagging, val_score: 0.820601:  60%|###############################8                     | 6/10 [00:22<00:15,  3.82s/it][I 2023-12-18 03:03:15,451] Trial 32 finished with value: 0.8202008143218352 and parameters: {'bagging_fraction': 0.9839977474409556, 'bagging_freq': 2}. Best is trial 28 with value: 0.8204088940896638.\n",
      "bagging, val_score: 0.820601:  60%|###############################8                     | 6/10 [00:22<00:15,  3.82s/it]"
     ]
    },
    {
     "name": "stdout",
     "output_type": "stream",
     "text": [
      "[LightGBM] [Info] Number of positive: 4610, number of negative: 16575\n",
      "[LightGBM] [Info] Auto-choosing col-wise multi-threading, the overhead of testing was 0.003607 seconds.\n",
      "You can set `force_col_wise=true` to remove the overhead.\n",
      "[LightGBM] [Info] Total Bins 4662\n",
      "[LightGBM] [Info] Number of data points in the train set: 21185, number of used features: 32\n",
      "[LightGBM] [Info] [binary:BoostFromScore]: pavg=0.217607 -> initscore=-1.279668\n",
      "[LightGBM] [Info] Start training from score -1.279668\n"
     ]
    },
    {
     "name": "stderr",
     "output_type": "stream",
     "text": [
      "bagging, val_score: 0.820601:  70%|#####################################                | 7/10 [00:26<00:11,  3.77s/it][I 2023-12-18 03:03:19,126] Trial 33 finished with value: 0.8203991945564237 and parameters: {'bagging_fraction': 0.997115202782193, 'bagging_freq': 6}. Best is trial 28 with value: 0.8204088940896638.\n",
      "bagging, val_score: 0.820601:  70%|#####################################                | 7/10 [00:26<00:11,  3.77s/it]"
     ]
    },
    {
     "name": "stdout",
     "output_type": "stream",
     "text": [
      "[LightGBM] [Info] Number of positive: 4610, number of negative: 16575\n",
      "[LightGBM] [Info] Auto-choosing col-wise multi-threading, the overhead of testing was 0.004406 seconds.\n",
      "You can set `force_col_wise=true` to remove the overhead.\n",
      "[LightGBM] [Info] Total Bins 4662\n",
      "[LightGBM] [Info] Number of data points in the train set: 21185, number of used features: 32\n",
      "[LightGBM] [Info] [binary:BoostFromScore]: pavg=0.217607 -> initscore=-1.279668\n",
      "[LightGBM] [Info] Start training from score -1.279668\n"
     ]
    },
    {
     "name": "stderr",
     "output_type": "stream",
     "text": [
      "bagging, val_score: 0.820601:  80%|##########################################4          | 8/10 [00:30<00:07,  3.71s/it][I 2023-12-18 03:03:22,710] Trial 34 finished with value: 0.8204180980263149 and parameters: {'bagging_fraction': 0.6880917734172864, 'bagging_freq': 7}. Best is trial 34 with value: 0.8204180980263149.\n",
      "bagging, val_score: 0.820601:  80%|##########################################4          | 8/10 [00:30<00:07,  3.71s/it]"
     ]
    },
    {
     "name": "stdout",
     "output_type": "stream",
     "text": [
      "[LightGBM] [Info] Number of positive: 4610, number of negative: 16575\n",
      "[LightGBM] [Info] Auto-choosing row-wise multi-threading, the overhead of testing was 0.000337 seconds.\n",
      "You can set `force_row_wise=true` to remove the overhead.\n",
      "And if memory is not enough, you can set `force_col_wise=true`.\n",
      "[LightGBM] [Info] Total Bins 4662\n",
      "[LightGBM] [Info] Number of data points in the train set: 21185, number of used features: 32\n",
      "[LightGBM] [Info] [binary:BoostFromScore]: pavg=0.217607 -> initscore=-1.279668\n",
      "[LightGBM] [Info] Start training from score -1.279668\n"
     ]
    },
    {
     "name": "stderr",
     "output_type": "stream",
     "text": [
      "bagging, val_score: 0.820601:  90%|###############################################7     | 9/10 [00:33<00:03,  3.74s/it][I 2023-12-18 03:03:26,493] Trial 35 finished with value: 0.8202534891592849 and parameters: {'bagging_fraction': 0.6637688931523749, 'bagging_freq': 7}. Best is trial 34 with value: 0.8204180980263149.\n",
      "bagging, val_score: 0.820601:  90%|###############################################7     | 9/10 [00:33<00:03,  3.74s/it]"
     ]
    },
    {
     "name": "stdout",
     "output_type": "stream",
     "text": [
      "[LightGBM] [Info] Number of positive: 4610, number of negative: 16575\n",
      "[LightGBM] [Info] Auto-choosing col-wise multi-threading, the overhead of testing was 0.003511 seconds.\n",
      "You can set `force_col_wise=true` to remove the overhead.\n",
      "[LightGBM] [Info] Total Bins 4662\n",
      "[LightGBM] [Info] Number of data points in the train set: 21185, number of used features: 32\n",
      "[LightGBM] [Info] [binary:BoostFromScore]: pavg=0.217607 -> initscore=-1.279668\n",
      "[LightGBM] [Info] Start training from score -1.279668\n"
     ]
    },
    {
     "name": "stderr",
     "output_type": "stream",
     "text": [
      "bagging, val_score: 0.820601: 100%|####################################################| 10/10 [00:37<00:00,  3.67s/it][I 2023-12-18 03:03:30,012] Trial 36 finished with value: 0.8197450070590654 and parameters: {'bagging_fraction': 0.7743980978468492, 'bagging_freq': 7}. Best is trial 34 with value: 0.8204180980263149.\n",
      "bagging, val_score: 0.820601: 100%|####################################################| 10/10 [00:37<00:00,  3.75s/it]\n",
      "feature_fraction_stage2, val_score: 0.820601:   0%|                                              | 0/3 [00:00<?, ?it/s]"
     ]
    },
    {
     "name": "stdout",
     "output_type": "stream",
     "text": [
      "[LightGBM] [Info] Number of positive: 4610, number of negative: 16575\n",
      "[LightGBM] [Info] Auto-choosing col-wise multi-threading, the overhead of testing was 0.004470 seconds.\n",
      "You can set `force_col_wise=true` to remove the overhead.\n",
      "[LightGBM] [Info] Total Bins 4662\n",
      "[LightGBM] [Info] Number of data points in the train set: 21185, number of used features: 32\n",
      "[LightGBM] [Info] [binary:BoostFromScore]: pavg=0.217607 -> initscore=-1.279668\n",
      "[LightGBM] [Info] Start training from score -1.279668\n"
     ]
    },
    {
     "name": "stderr",
     "output_type": "stream",
     "text": [
      "feature_fraction_stage2, val_score: 0.820760:  33%|############6                         | 1/3 [00:03<00:07,  3.51s/it][I 2023-12-18 03:03:33,535] Trial 37 finished with value: 0.8207598472741232 and parameters: {'feature_fraction': 0.48000000000000004}. Best is trial 37 with value: 0.8207598472741232.\n",
      "feature_fraction_stage2, val_score: 0.820760:  33%|############6                         | 1/3 [00:03<00:07,  3.51s/it]"
     ]
    },
    {
     "name": "stdout",
     "output_type": "stream",
     "text": [
      "[LightGBM] [Info] Number of positive: 4610, number of negative: 16575\n",
      "[LightGBM] [Info] Auto-choosing col-wise multi-threading, the overhead of testing was 0.003828 seconds.\n",
      "You can set `force_col_wise=true` to remove the overhead.\n",
      "[LightGBM] [Info] Total Bins 4662\n",
      "[LightGBM] [Info] Number of data points in the train set: 21185, number of used features: 32\n",
      "[LightGBM] [Info] [binary:BoostFromScore]: pavg=0.217607 -> initscore=-1.279668\n",
      "[LightGBM] [Info] Start training from score -1.279668\n"
     ]
    },
    {
     "name": "stderr",
     "output_type": "stream",
     "text": [
      "feature_fraction_stage2, val_score: 0.820760:  67%|#########################3            | 2/3 [00:06<00:03,  3.45s/it][I 2023-12-18 03:03:36,937] Trial 38 finished with value: 0.820601079366891 and parameters: {'feature_fraction': 0.41600000000000004}. Best is trial 37 with value: 0.8207598472741232.\n",
      "feature_fraction_stage2, val_score: 0.820760:  67%|#########################3            | 2/3 [00:06<00:03,  3.45s/it]"
     ]
    },
    {
     "name": "stdout",
     "output_type": "stream",
     "text": [
      "[LightGBM] [Info] Number of positive: 4610, number of negative: 16575\n",
      "[LightGBM] [Info] Auto-choosing col-wise multi-threading, the overhead of testing was 0.005230 seconds.\n",
      "You can set `force_col_wise=true` to remove the overhead.\n",
      "[LightGBM] [Info] Total Bins 4662\n",
      "[LightGBM] [Info] Number of data points in the train set: 21185, number of used features: 32\n",
      "[LightGBM] [Info] [binary:BoostFromScore]: pavg=0.217607 -> initscore=-1.279668\n",
      "[LightGBM] [Info] Start training from score -1.279668\n"
     ]
    },
    {
     "name": "stderr",
     "output_type": "stream",
     "text": [
      "feature_fraction_stage2, val_score: 0.820760: 100%|######################################| 3/3 [00:10<00:00,  3.43s/it][I 2023-12-18 03:03:40,343] Trial 39 finished with value: 0.820490915325128 and parameters: {'feature_fraction': 0.44800000000000006}. Best is trial 37 with value: 0.8207598472741232.\n",
      "feature_fraction_stage2, val_score: 0.820760: 100%|######################################| 3/3 [00:10<00:00,  3.44s/it]\n",
      "regularization_factors, val_score: 0.820760:   0%|                                              | 0/20 [00:00<?, ?it/s]"
     ]
    },
    {
     "name": "stdout",
     "output_type": "stream",
     "text": [
      "[LightGBM] [Info] Number of positive: 4610, number of negative: 16575\n",
      "[LightGBM] [Info] Auto-choosing col-wise multi-threading, the overhead of testing was 0.003595 seconds.\n",
      "You can set `force_col_wise=true` to remove the overhead.\n",
      "[LightGBM] [Info] Total Bins 4662\n",
      "[LightGBM] [Info] Number of data points in the train set: 21185, number of used features: 32\n",
      "[LightGBM] [Info] [binary:BoostFromScore]: pavg=0.217607 -> initscore=-1.279668\n",
      "[LightGBM] [Info] Start training from score -1.279668\n"
     ]
    },
    {
     "name": "stderr",
     "output_type": "stream",
     "text": [
      "regularization_factors, val_score: 0.820760:   5%|#9                                    | 1/20 [00:03<01:05,  3.44s/it][I 2023-12-18 03:03:43,792] Trial 40 finished with value: 0.8207119868035372 and parameters: {'lambda_l1': 0.0016156972736279455, 'lambda_l2': 4.486170821704178e-06}. Best is trial 40 with value: 0.8207119868035372.\n",
      "regularization_factors, val_score: 0.820760:   5%|#9                                    | 1/20 [00:03<01:05,  3.44s/it]"
     ]
    },
    {
     "name": "stdout",
     "output_type": "stream",
     "text": [
      "[LightGBM] [Info] Number of positive: 4610, number of negative: 16575\n",
      "[LightGBM] [Info] Auto-choosing col-wise multi-threading, the overhead of testing was 0.005139 seconds.\n",
      "You can set `force_col_wise=true` to remove the overhead.\n",
      "[LightGBM] [Info] Total Bins 4662\n",
      "[LightGBM] [Info] Number of data points in the train set: 21185, number of used features: 32\n",
      "[LightGBM] [Info] [binary:BoostFromScore]: pavg=0.217607 -> initscore=-1.279668\n",
      "[LightGBM] [Info] Start training from score -1.279668\n"
     ]
    },
    {
     "name": "stderr",
     "output_type": "stream",
     "text": [
      "regularization_factors, val_score: 0.820760:  10%|###8                                  | 2/20 [00:06<01:01,  3.43s/it][I 2023-12-18 03:03:47,223] Trial 41 finished with value: 0.8207119868035372 and parameters: {'lambda_l1': 0.001356237556067094, 'lambda_l2': 1.667350488781355e-06}. Best is trial 40 with value: 0.8207119868035372.\n",
      "regularization_factors, val_score: 0.820760:  10%|###8                                  | 2/20 [00:06<01:01,  3.43s/it]"
     ]
    },
    {
     "name": "stdout",
     "output_type": "stream",
     "text": [
      "[LightGBM] [Info] Number of positive: 4610, number of negative: 16575\n",
      "[LightGBM] [Info] Auto-choosing col-wise multi-threading, the overhead of testing was 0.003138 seconds.\n",
      "You can set `force_col_wise=true` to remove the overhead.\n",
      "[LightGBM] [Info] Total Bins 4662\n",
      "[LightGBM] [Info] Number of data points in the train set: 21185, number of used features: 32\n",
      "[LightGBM] [Info] [binary:BoostFromScore]: pavg=0.217607 -> initscore=-1.279668\n",
      "[LightGBM] [Info] Start training from score -1.279668\n"
     ]
    },
    {
     "name": "stderr",
     "output_type": "stream",
     "text": [
      "regularization_factors, val_score: 0.820760:  15%|#####7                                | 3/20 [00:10<00:58,  3.43s/it][I 2023-12-18 03:03:50,645] Trial 42 finished with value: 0.8207119160040245 and parameters: {'lambda_l1': 0.0014044463161734845, 'lambda_l2': 1.956322774769749e-06}. Best is trial 40 with value: 0.8207119868035372.\n",
      "regularization_factors, val_score: 0.820760:  15%|#####7                                | 3/20 [00:10<00:58,  3.43s/it]"
     ]
    },
    {
     "name": "stdout",
     "output_type": "stream",
     "text": [
      "[LightGBM] [Info] Number of positive: 4610, number of negative: 16575\n",
      "[LightGBM] [Info] Auto-choosing col-wise multi-threading, the overhead of testing was 0.004154 seconds.\n",
      "You can set `force_col_wise=true` to remove the overhead.\n",
      "[LightGBM] [Info] Total Bins 4662\n",
      "[LightGBM] [Info] Number of data points in the train set: 21185, number of used features: 32\n",
      "[LightGBM] [Info] [binary:BoostFromScore]: pavg=0.217607 -> initscore=-1.279668\n",
      "[LightGBM] [Info] Start training from score -1.279668\n"
     ]
    },
    {
     "name": "stderr",
     "output_type": "stream",
     "text": [
      "regularization_factors, val_score: 0.820760:  20%|#######6                              | 4/20 [00:13<00:54,  3.43s/it][I 2023-12-18 03:03:54,078] Trial 43 finished with value: 0.8207573692911786 and parameters: {'lambda_l1': 0.00246472049441158, 'lambda_l2': 2.121119699106816e-06}. Best is trial 43 with value: 0.8207573692911786.\n",
      "regularization_factors, val_score: 0.820760:  20%|#######6                              | 4/20 [00:13<00:54,  3.43s/it]"
     ]
    },
    {
     "name": "stdout",
     "output_type": "stream",
     "text": [
      "[LightGBM] [Info] Number of positive: 4610, number of negative: 16575\n",
      "[LightGBM] [Info] Auto-choosing col-wise multi-threading, the overhead of testing was 0.003924 seconds.\n",
      "You can set `force_col_wise=true` to remove the overhead.\n",
      "[LightGBM] [Info] Total Bins 4662\n",
      "[LightGBM] [Info] Number of data points in the train set: 21185, number of used features: 32\n",
      "[LightGBM] [Info] [binary:BoostFromScore]: pavg=0.217607 -> initscore=-1.279668\n",
      "[LightGBM] [Info] Start training from score -1.279668\n"
     ]
    },
    {
     "name": "stderr",
     "output_type": "stream",
     "text": [
      "regularization_factors, val_score: 0.820760:  25%|#########5                            | 5/20 [00:17<00:51,  3.44s/it][I 2023-12-18 03:03:57,533] Trial 44 finished with value: 0.8207119868035372 and parameters: {'lambda_l1': 0.0014889390277639588, 'lambda_l2': 1.9212667277512575e-06}. Best is trial 43 with value: 0.8207573692911786.\n",
      "regularization_factors, val_score: 0.820760:  25%|#########5                            | 5/20 [00:17<00:51,  3.44s/it]"
     ]
    },
    {
     "name": "stdout",
     "output_type": "stream",
     "text": [
      "[LightGBM] [Info] Number of positive: 4610, number of negative: 16575\n",
      "[LightGBM] [Info] Auto-choosing col-wise multi-threading, the overhead of testing was 0.003419 seconds.\n",
      "You can set `force_col_wise=true` to remove the overhead.\n",
      "[LightGBM] [Info] Total Bins 4662\n",
      "[LightGBM] [Info] Number of data points in the train set: 21185, number of used features: 32\n",
      "[LightGBM] [Info] [binary:BoostFromScore]: pavg=0.217607 -> initscore=-1.279668\n",
      "[LightGBM] [Info] Start training from score -1.279668\n"
     ]
    },
    {
     "name": "stderr",
     "output_type": "stream",
     "text": [
      "regularization_factors, val_score: 0.820760:  30%|###########4                          | 6/20 [00:20<00:48,  3.44s/it][I 2023-12-18 03:04:00,986] Trial 45 finished with value: 0.8207175091655279 and parameters: {'lambda_l1': 0.0021221516561150955, 'lambda_l2': 3.0194508513455096e-06}. Best is trial 43 with value: 0.8207573692911786.\n",
      "regularization_factors, val_score: 0.820760:  30%|###########4                          | 6/20 [00:20<00:48,  3.44s/it]"
     ]
    },
    {
     "name": "stdout",
     "output_type": "stream",
     "text": [
      "[LightGBM] [Info] Number of positive: 4610, number of negative: 16575\n",
      "[LightGBM] [Info] Auto-choosing col-wise multi-threading, the overhead of testing was 0.003625 seconds.\n",
      "You can set `force_col_wise=true` to remove the overhead.\n",
      "[LightGBM] [Info] Total Bins 4662\n",
      "[LightGBM] [Info] Number of data points in the train set: 21185, number of used features: 32\n",
      "[LightGBM] [Info] [binary:BoostFromScore]: pavg=0.217607 -> initscore=-1.279668\n",
      "[LightGBM] [Info] Start training from score -1.279668\n"
     ]
    },
    {
     "name": "stderr",
     "output_type": "stream",
     "text": [
      "regularization_factors, val_score: 0.820760:  35%|#############3                        | 7/20 [00:24<00:44,  3.44s/it][I 2023-12-18 03:04:04,420] Trial 46 finished with value: 0.8206993136907638 and parameters: {'lambda_l1': 0.00310594007875984, 'lambda_l2': 2.7938380873479734e-06}. Best is trial 43 with value: 0.8207573692911786.\n",
      "regularization_factors, val_score: 0.820760:  35%|#############3                        | 7/20 [00:24<00:44,  3.44s/it]"
     ]
    },
    {
     "name": "stdout",
     "output_type": "stream",
     "text": [
      "[LightGBM] [Info] Number of positive: 4610, number of negative: 16575\n",
      "[LightGBM] [Info] Auto-choosing col-wise multi-threading, the overhead of testing was 0.003428 seconds.\n",
      "You can set `force_col_wise=true` to remove the overhead.\n",
      "[LightGBM] [Info] Total Bins 4662\n",
      "[LightGBM] [Info] Number of data points in the train set: 21185, number of used features: 32\n",
      "[LightGBM] [Info] [binary:BoostFromScore]: pavg=0.217607 -> initscore=-1.279668\n",
      "[LightGBM] [Info] Start training from score -1.279668\n"
     ]
    },
    {
     "name": "stderr",
     "output_type": "stream",
     "text": [
      "regularization_factors, val_score: 0.820760:  40%|###############2                      | 8/20 [00:27<00:41,  3.44s/it][I 2023-12-18 03:04:07,851] Trial 47 finished with value: 0.8207129071972024 and parameters: {'lambda_l1': 0.0017416525008306625, 'lambda_l2': 2.897871557946112e-06}. Best is trial 43 with value: 0.8207573692911786.\n",
      "regularization_factors, val_score: 0.820760:  40%|###############2                      | 8/20 [00:27<00:41,  3.44s/it]"
     ]
    },
    {
     "name": "stdout",
     "output_type": "stream",
     "text": [
      "[LightGBM] [Info] Number of positive: 4610, number of negative: 16575\n",
      "[LightGBM] [Info] Auto-choosing col-wise multi-threading, the overhead of testing was 0.003817 seconds.\n",
      "You can set `force_col_wise=true` to remove the overhead.\n",
      "[LightGBM] [Info] Total Bins 4662\n",
      "[LightGBM] [Info] Number of data points in the train set: 21185, number of used features: 32\n",
      "[LightGBM] [Info] [binary:BoostFromScore]: pavg=0.217607 -> initscore=-1.279668\n",
      "[LightGBM] [Info] Start training from score -1.279668\n"
     ]
    },
    {
     "name": "stderr",
     "output_type": "stream",
     "text": [
      "regularization_factors, val_score: 0.820760:  45%|#################1                    | 9/20 [00:30<00:37,  3.42s/it][I 2023-12-18 03:04:11,236] Trial 48 finished with value: 0.8207292618846364 and parameters: {'lambda_l1': 0.27423543908471737, 'lambda_l2': 9.772083543684322e-05}. Best is trial 43 with value: 0.8207573692911786.\n",
      "regularization_factors, val_score: 0.820760:  45%|#################1                    | 9/20 [00:30<00:37,  3.42s/it]"
     ]
    },
    {
     "name": "stdout",
     "output_type": "stream",
     "text": [
      "[LightGBM] [Info] Number of positive: 4610, number of negative: 16575\n",
      "[LightGBM] [Info] Auto-choosing col-wise multi-threading, the overhead of testing was 0.004847 seconds.\n",
      "You can set `force_col_wise=true` to remove the overhead.\n",
      "[LightGBM] [Info] Total Bins 4662\n",
      "[LightGBM] [Info] Number of data points in the train set: 21185, number of used features: 32\n",
      "[LightGBM] [Info] [binary:BoostFromScore]: pavg=0.217607 -> initscore=-1.279668\n",
      "[LightGBM] [Info] Start training from score -1.279668\n"
     ]
    },
    {
     "name": "stderr",
     "output_type": "stream",
     "text": [
      "regularization_factors, val_score: 0.821242:  50%|##################5                  | 10/20 [00:34<00:34,  3.43s/it][I 2023-12-18 03:04:14,690] Trial 49 finished with value: 0.8212423459531812 and parameters: {'lambda_l1': 6.874284203242162, 'lambda_l2': 0.02134805302882162}. Best is trial 49 with value: 0.8212423459531812.\n",
      "regularization_factors, val_score: 0.821242:  50%|##################5                  | 10/20 [00:34<00:34,  3.43s/it]"
     ]
    },
    {
     "name": "stdout",
     "output_type": "stream",
     "text": [
      "[LightGBM] [Info] Number of positive: 4610, number of negative: 16575\n",
      "[LightGBM] [Info] Auto-choosing col-wise multi-threading, the overhead of testing was 0.004683 seconds.\n",
      "You can set `force_col_wise=true` to remove the overhead.\n",
      "[LightGBM] [Info] Total Bins 4662\n",
      "[LightGBM] [Info] Number of data points in the train set: 21185, number of used features: 32\n",
      "[LightGBM] [Info] [binary:BoostFromScore]: pavg=0.217607 -> initscore=-1.279668\n",
      "[LightGBM] [Info] Start training from score -1.279668\n"
     ]
    },
    {
     "name": "stderr",
     "output_type": "stream",
     "text": [
      "regularization_factors, val_score: 0.821621:  55%|####################3                | 11/20 [00:37<00:31,  3.44s/it][I 2023-12-18 03:04:18,164] Trial 50 finished with value: 0.8216209463473505 and parameters: {'lambda_l1': 9.42469829513506, 'lambda_l2': 0.03615412438833218}. Best is trial 50 with value: 0.8216209463473505.\n",
      "regularization_factors, val_score: 0.821621:  55%|####################3                | 11/20 [00:37<00:31,  3.44s/it]"
     ]
    },
    {
     "name": "stdout",
     "output_type": "stream",
     "text": [
      "[LightGBM] [Info] Number of positive: 4610, number of negative: 16575\n",
      "[LightGBM] [Info] Auto-choosing col-wise multi-threading, the overhead of testing was 0.004300 seconds.\n",
      "You can set `force_col_wise=true` to remove the overhead.\n",
      "[LightGBM] [Info] Total Bins 4662\n",
      "[LightGBM] [Info] Number of data points in the train set: 21185, number of used features: 32\n",
      "[LightGBM] [Info] [binary:BoostFromScore]: pavg=0.217607 -> initscore=-1.279668\n",
      "[LightGBM] [Info] Start training from score -1.279668\n"
     ]
    },
    {
     "name": "stderr",
     "output_type": "stream",
     "text": [
      "regularization_factors, val_score: 0.821621:  60%|######################2              | 12/20 [00:41<00:27,  3.46s/it][I 2023-12-18 03:04:21,650] Trial 51 finished with value: 0.8215569081881123 and parameters: {'lambda_l1': 9.063422300165197, 'lambda_l2': 0.16427929000410277}. Best is trial 50 with value: 0.8216209463473505.\n",
      "regularization_factors, val_score: 0.821621:  60%|######################2              | 12/20 [00:41<00:27,  3.46s/it]"
     ]
    },
    {
     "name": "stdout",
     "output_type": "stream",
     "text": [
      "[LightGBM] [Info] Number of positive: 4610, number of negative: 16575\n",
      "[LightGBM] [Info] Auto-choosing col-wise multi-threading, the overhead of testing was 0.005243 seconds.\n",
      "You can set `force_col_wise=true` to remove the overhead.\n",
      "[LightGBM] [Info] Total Bins 4662\n",
      "[LightGBM] [Info] Number of data points in the train set: 21185, number of used features: 32\n",
      "[LightGBM] [Info] [binary:BoostFromScore]: pavg=0.217607 -> initscore=-1.279668\n",
      "[LightGBM] [Info] Start training from score -1.279668\n"
     ]
    },
    {
     "name": "stderr",
     "output_type": "stream",
     "text": [
      "regularization_factors, val_score: 0.821621:  65%|########################             | 13/20 [00:44<00:24,  3.46s/it][I 2023-12-18 03:04:25,108] Trial 52 finished with value: 0.8215510318285582 and parameters: {'lambda_l1': 8.984250430442897, 'lambda_l2': 0.12064246278001842}. Best is trial 50 with value: 0.8216209463473505.\n",
      "regularization_factors, val_score: 0.821621:  65%|########################             | 13/20 [00:44<00:24,  3.46s/it]"
     ]
    },
    {
     "name": "stdout",
     "output_type": "stream",
     "text": [
      "[LightGBM] [Info] Number of positive: 4610, number of negative: 16575\n",
      "[LightGBM] [Info] Auto-choosing col-wise multi-threading, the overhead of testing was 0.004053 seconds.\n",
      "You can set `force_col_wise=true` to remove the overhead.\n",
      "[LightGBM] [Info] Total Bins 4662\n",
      "[LightGBM] [Info] Number of data points in the train set: 21185, number of used features: 32\n",
      "[LightGBM] [Info] [binary:BoostFromScore]: pavg=0.217607 -> initscore=-1.279668\n",
      "[LightGBM] [Info] Start training from score -1.279668\n"
     ]
    },
    {
     "name": "stderr",
     "output_type": "stream",
     "text": [
      "regularization_factors, val_score: 0.821621:  70%|#########################9           | 14/20 [00:48<00:21,  3.55s/it][I 2023-12-18 03:04:28,857] Trial 53 finished with value: 0.8212818874810248 and parameters: {'lambda_l1': 7.200713975151955, 'lambda_l2': 0.1708662237356884}. Best is trial 50 with value: 0.8216209463473505.\n",
      "regularization_factors, val_score: 0.821621:  70%|#########################9           | 14/20 [00:48<00:21,  3.55s/it]"
     ]
    },
    {
     "name": "stdout",
     "output_type": "stream",
     "text": [
      "[LightGBM] [Info] Number of positive: 4610, number of negative: 16575\n",
      "[LightGBM] [Info] Auto-choosing col-wise multi-threading, the overhead of testing was 0.003501 seconds.\n",
      "You can set `force_col_wise=true` to remove the overhead.\n",
      "[LightGBM] [Info] Total Bins 4662\n",
      "[LightGBM] [Info] Number of data points in the train set: 21185, number of used features: 32\n",
      "[LightGBM] [Info] [binary:BoostFromScore]: pavg=0.217607 -> initscore=-1.279668\n",
      "[LightGBM] [Info] Start training from score -1.279668\n"
     ]
    },
    {
     "name": "stderr",
     "output_type": "stream",
     "text": [
      "regularization_factors, val_score: 0.821621:  75%|###########################7         | 15/20 [00:52<00:17,  3.53s/it][I 2023-12-18 03:04:32,368] Trial 54 finished with value: 0.8213621741284279 and parameters: {'lambda_l1': 7.589805895475684, 'lambda_l2': 0.3788516212588455}. Best is trial 50 with value: 0.8216209463473505.\n",
      "regularization_factors, val_score: 0.821621:  75%|###########################7         | 15/20 [00:52<00:17,  3.53s/it]"
     ]
    },
    {
     "name": "stdout",
     "output_type": "stream",
     "text": [
      "[LightGBM] [Info] Number of positive: 4610, number of negative: 16575\n",
      "[LightGBM] [Info] Auto-choosing col-wise multi-threading, the overhead of testing was 0.003489 seconds.\n",
      "You can set `force_col_wise=true` to remove the overhead.\n",
      "[LightGBM] [Info] Total Bins 4662\n",
      "[LightGBM] [Info] Number of data points in the train set: 21185, number of used features: 32\n",
      "[LightGBM] [Info] [binary:BoostFromScore]: pavg=0.217607 -> initscore=-1.279668\n",
      "[LightGBM] [Info] Start training from score -1.279668\n"
     ]
    },
    {
     "name": "stderr",
     "output_type": "stream",
     "text": [
      "regularization_factors, val_score: 0.821697:  80%|#############################6       | 16/20 [00:55<00:14,  3.52s/it][I 2023-12-18 03:04:35,853] Trial 55 finished with value: 0.8216969496242351 and parameters: {'lambda_l1': 9.926347819260023, 'lambda_l2': 0.2635745692891133}. Best is trial 55 with value: 0.8216969496242351.\n",
      "regularization_factors, val_score: 0.821697:  80%|#############################6       | 16/20 [00:55<00:14,  3.52s/it]"
     ]
    },
    {
     "name": "stdout",
     "output_type": "stream",
     "text": [
      "[LightGBM] [Info] Number of positive: 4610, number of negative: 16575\n",
      "[LightGBM] [Info] Auto-choosing col-wise multi-threading, the overhead of testing was 0.003195 seconds.\n",
      "You can set `force_col_wise=true` to remove the overhead.\n",
      "[LightGBM] [Info] Total Bins 4662\n",
      "[LightGBM] [Info] Number of data points in the train set: 21185, number of used features: 32\n",
      "[LightGBM] [Info] [binary:BoostFromScore]: pavg=0.217607 -> initscore=-1.279668\n",
      "[LightGBM] [Info] Start training from score -1.279668\n"
     ]
    },
    {
     "name": "stderr",
     "output_type": "stream",
     "text": [
      "regularization_factors, val_score: 0.821697:  85%|###############################4     | 17/20 [00:58<00:10,  3.51s/it][I 2023-12-18 03:04:39,335] Trial 56 finished with value: 0.8215588197749553 and parameters: {'lambda_l1': 9.016553975286786, 'lambda_l2': 0.5216010790505546}. Best is trial 55 with value: 0.8216969496242351.\n",
      "regularization_factors, val_score: 0.821697:  85%|###############################4     | 17/20 [00:58<00:10,  3.51s/it]"
     ]
    },
    {
     "name": "stdout",
     "output_type": "stream",
     "text": [
      "[LightGBM] [Info] Number of positive: 4610, number of negative: 16575\n",
      "[LightGBM] [Info] Auto-choosing col-wise multi-threading, the overhead of testing was 0.004529 seconds.\n",
      "You can set `force_col_wise=true` to remove the overhead.\n",
      "[LightGBM] [Info] Total Bins 4662\n",
      "[LightGBM] [Info] Number of data points in the train set: 21185, number of used features: 32\n",
      "[LightGBM] [Info] [binary:BoostFromScore]: pavg=0.217607 -> initscore=-1.279668\n",
      "[LightGBM] [Info] Start training from score -1.279668\n"
     ]
    },
    {
     "name": "stderr",
     "output_type": "stream",
     "text": [
      "regularization_factors, val_score: 0.821697:  90%|#################################3   | 18/20 [01:02<00:06,  3.49s/it][I 2023-12-18 03:04:42,791] Trial 57 finished with value: 0.8212841884651876 and parameters: {'lambda_l1': 6.411809428985145, 'lambda_l2': 7.065408544488419}. Best is trial 55 with value: 0.8216969496242351.\n",
      "regularization_factors, val_score: 0.821697:  90%|#################################3   | 18/20 [01:02<00:06,  3.49s/it]"
     ]
    },
    {
     "name": "stdout",
     "output_type": "stream",
     "text": [
      "[LightGBM] [Info] Number of positive: 4610, number of negative: 16575\n",
      "[LightGBM] [Info] Auto-choosing col-wise multi-threading, the overhead of testing was 0.003494 seconds.\n",
      "You can set `force_col_wise=true` to remove the overhead.\n",
      "[LightGBM] [Info] Total Bins 4662\n",
      "[LightGBM] [Info] Number of data points in the train set: 21185, number of used features: 32\n",
      "[LightGBM] [Info] [binary:BoostFromScore]: pavg=0.217607 -> initscore=-1.279668\n",
      "[LightGBM] [Info] Start training from score -1.279668\n"
     ]
    },
    {
     "name": "stderr",
     "output_type": "stream",
     "text": [
      "regularization_factors, val_score: 0.821697:  95%|###################################1 | 19/20 [01:05<00:03,  3.48s/it][I 2023-12-18 03:04:46,238] Trial 58 finished with value: 0.8208009817910026 and parameters: {'lambda_l1': 0.5162610559998569, 'lambda_l2': 0.1704968621914819}. Best is trial 55 with value: 0.8216969496242351.\n",
      "regularization_factors, val_score: 0.821697:  95%|###################################1 | 19/20 [01:05<00:03,  3.48s/it]"
     ]
    },
    {
     "name": "stdout",
     "output_type": "stream",
     "text": [
      "[LightGBM] [Info] Number of positive: 4610, number of negative: 16575\n",
      "[LightGBM] [Info] Auto-choosing col-wise multi-threading, the overhead of testing was 0.004122 seconds.\n",
      "You can set `force_col_wise=true` to remove the overhead.\n",
      "[LightGBM] [Info] Total Bins 4662\n",
      "[LightGBM] [Info] Number of data points in the train set: 21185, number of used features: 32\n",
      "[LightGBM] [Info] [binary:BoostFromScore]: pavg=0.217607 -> initscore=-1.279668\n",
      "[LightGBM] [Info] Start training from score -1.279668\n"
     ]
    },
    {
     "name": "stderr",
     "output_type": "stream",
     "text": [
      "regularization_factors, val_score: 0.821697: 100%|#####################################| 20/20 [01:09<00:00,  3.46s/it][I 2023-12-18 03:04:49,669] Trial 59 finished with value: 0.8208065749525059 and parameters: {'lambda_l1': 0.510394987351807, 'lambda_l2': 0.26486567032529534}. Best is trial 55 with value: 0.8216969496242351.\n",
      "regularization_factors, val_score: 0.821697: 100%|#####################################| 20/20 [01:09<00:00,  3.47s/it]\n",
      "min_child_samples, val_score: 0.821697:   0%|                                                    | 0/5 [00:00<?, ?it/s]"
     ]
    },
    {
     "name": "stdout",
     "output_type": "stream",
     "text": [
      "[LightGBM] [Info] Number of positive: 4610, number of negative: 16575\n",
      "[LightGBM] [Info] Auto-choosing col-wise multi-threading, the overhead of testing was 0.004295 seconds.\n",
      "You can set `force_col_wise=true` to remove the overhead.\n",
      "[LightGBM] [Info] Total Bins 4662\n",
      "[LightGBM] [Info] Number of data points in the train set: 21185, number of used features: 32\n",
      "[LightGBM] [Info] [binary:BoostFromScore]: pavg=0.217607 -> initscore=-1.279668\n",
      "[LightGBM] [Info] Start training from score -1.279668\n"
     ]
    },
    {
     "name": "stderr",
     "output_type": "stream",
     "text": [
      "min_child_samples, val_score: 0.821697:  20%|########8                                   | 1/5 [00:03<00:13,  3.45s/it][I 2023-12-18 03:04:53,131] Trial 60 finished with value: 0.8216969496242351 and parameters: {'min_child_samples': 25}. Best is trial 60 with value: 0.8216969496242351.\n",
      "min_child_samples, val_score: 0.821697:  20%|########8                                   | 1/5 [00:03<00:13,  3.45s/it]"
     ]
    },
    {
     "name": "stdout",
     "output_type": "stream",
     "text": [
      "[LightGBM] [Info] Number of positive: 4610, number of negative: 16575\n",
      "[LightGBM] [Info] Auto-choosing col-wise multi-threading, the overhead of testing was 0.003591 seconds.\n",
      "You can set `force_col_wise=true` to remove the overhead.\n",
      "[LightGBM] [Info] Total Bins 4662\n",
      "[LightGBM] [Info] Number of data points in the train set: 21185, number of used features: 32\n",
      "[LightGBM] [Info] [binary:BoostFromScore]: pavg=0.217607 -> initscore=-1.279668\n",
      "[LightGBM] [Info] Start training from score -1.279668\n"
     ]
    },
    {
     "name": "stderr",
     "output_type": "stream",
     "text": [
      "min_child_samples, val_score: 0.821697:  40%|#################6                          | 2/5 [00:06<00:10,  3.46s/it][I 2023-12-18 03:04:56,592] Trial 61 finished with value: 0.8216969496242351 and parameters: {'min_child_samples': 100}. Best is trial 60 with value: 0.8216969496242351.\n",
      "min_child_samples, val_score: 0.821697:  40%|#################6                          | 2/5 [00:06<00:10,  3.46s/it]"
     ]
    },
    {
     "name": "stdout",
     "output_type": "stream",
     "text": [
      "[LightGBM] [Info] Number of positive: 4610, number of negative: 16575\n",
      "[LightGBM] [Info] Auto-choosing col-wise multi-threading, the overhead of testing was 0.003494 seconds.\n",
      "You can set `force_col_wise=true` to remove the overhead.\n",
      "[LightGBM] [Info] Total Bins 4662\n",
      "[LightGBM] [Info] Number of data points in the train set: 21185, number of used features: 32\n",
      "[LightGBM] [Info] [binary:BoostFromScore]: pavg=0.217607 -> initscore=-1.279668\n",
      "[LightGBM] [Info] Start training from score -1.279668\n"
     ]
    },
    {
     "name": "stderr",
     "output_type": "stream",
     "text": [
      "min_child_samples, val_score: 0.821697:  60%|##########################4                 | 3/5 [00:10<00:06,  3.45s/it][I 2023-12-18 03:05:00,041] Trial 62 finished with value: 0.8216969496242351 and parameters: {'min_child_samples': 10}. Best is trial 60 with value: 0.8216969496242351.\n",
      "min_child_samples, val_score: 0.821697:  60%|##########################4                 | 3/5 [00:10<00:06,  3.45s/it]"
     ]
    },
    {
     "name": "stdout",
     "output_type": "stream",
     "text": [
      "[LightGBM] [Info] Number of positive: 4610, number of negative: 16575\n",
      "[LightGBM] [Info] Auto-choosing col-wise multi-threading, the overhead of testing was 0.003209 seconds.\n",
      "You can set `force_col_wise=true` to remove the overhead.\n",
      "[LightGBM] [Info] Total Bins 4662\n",
      "[LightGBM] [Info] Number of data points in the train set: 21185, number of used features: 32\n",
      "[LightGBM] [Info] [binary:BoostFromScore]: pavg=0.217607 -> initscore=-1.279668\n",
      "[LightGBM] [Info] Start training from score -1.279668\n"
     ]
    },
    {
     "name": "stderr",
     "output_type": "stream",
     "text": [
      "min_child_samples, val_score: 0.821697:  80%|###################################2        | 4/5 [00:13<00:03,  3.45s/it][I 2023-12-18 03:05:03,478] Trial 63 finished with value: 0.8216969496242351 and parameters: {'min_child_samples': 5}. Best is trial 60 with value: 0.8216969496242351.\n",
      "min_child_samples, val_score: 0.821697:  80%|###################################2        | 4/5 [00:13<00:03,  3.45s/it]"
     ]
    },
    {
     "name": "stdout",
     "output_type": "stream",
     "text": [
      "[LightGBM] [Info] Number of positive: 4610, number of negative: 16575\n",
      "[LightGBM] [Info] Auto-choosing col-wise multi-threading, the overhead of testing was 0.004139 seconds.\n",
      "You can set `force_col_wise=true` to remove the overhead.\n",
      "[LightGBM] [Info] Total Bins 4662\n",
      "[LightGBM] [Info] Number of data points in the train set: 21185, number of used features: 32\n",
      "[LightGBM] [Info] [binary:BoostFromScore]: pavg=0.217607 -> initscore=-1.279668\n",
      "[LightGBM] [Info] Start training from score -1.279668\n"
     ]
    },
    {
     "name": "stderr",
     "output_type": "stream",
     "text": [
      "min_child_samples, val_score: 0.821697: 100%|############################################| 5/5 [00:17<00:00,  3.45s/it][I 2023-12-18 03:05:06,924] Trial 64 finished with value: 0.8216969496242351 and parameters: {'min_child_samples': 50}. Best is trial 60 with value: 0.8216969496242351.\n",
      "min_child_samples, val_score: 0.821697: 100%|############################################| 5/5 [00:17<00:00,  3.45s/it]\n"
     ]
    }
   ],
   "source": [
    "params = {\n",
    "    \"objective\":\"binary\",\n",
    "    \"random_state\":57,\n",
    "    \"metric\":\"auc\"\n",
    "}\n",
    "\n",
    "lgb_clf_o = lgb_o.train(params, \n",
    "                        lgb_train, valid_sets=(lgb_train, lgb_val),\n",
    "                       )\n"
   ]
  },
  {
   "cell_type": "code",
   "execution_count": 576,
   "id": "b97a4ac9",
   "metadata": {},
   "outputs": [
    {
     "data": {
      "text/plain": [
       "{'objective': 'binary',\n",
       " 'random_state': 57,\n",
       " 'metric': 'auc',\n",
       " 'feature_pre_filter': False,\n",
       " 'lambda_l1': 9.926347819260023,\n",
       " 'lambda_l2': 0.2635745692891133,\n",
       " 'num_leaves': 2,\n",
       " 'feature_fraction': 0.48000000000000004,\n",
       " 'bagging_fraction': 1.0,\n",
       " 'bagging_freq': 0,\n",
       " 'min_child_samples': 20,\n",
       " 'num_iterations': 1000}"
      ]
     },
     "execution_count": 576,
     "metadata": {},
     "output_type": "execute_result"
    }
   ],
   "source": [
    "lgb_clf_o.params"
   ]
  },
  {
   "cell_type": "code",
   "execution_count": null,
   "id": "e824aa14",
   "metadata": {},
   "outputs": [],
   "source": []
  }
 ],
 "metadata": {
  "kernelspec": {
   "display_name": "Python 3 (ipykernel)",
   "language": "python",
   "name": "python3"
  },
  "language_info": {
   "codemirror_mode": {
    "name": "ipython",
    "version": 3
   },
   "file_extension": ".py",
   "mimetype": "text/x-python",
   "name": "python",
   "nbconvert_exporter": "python",
   "pygments_lexer": "ipython3",
   "version": "3.9.13"
  }
 },
 "nbformat": 4,
 "nbformat_minor": 5
}
